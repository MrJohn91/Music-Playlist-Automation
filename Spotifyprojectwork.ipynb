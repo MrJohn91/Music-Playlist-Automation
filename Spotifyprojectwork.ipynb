{
 "cells": [
  {
   "cell_type": "code",
   "execution_count": 1,
   "metadata": {},
   "outputs": [],
   "source": [
    "import pandas as pd"
   ]
  },
  {
   "cell_type": "code",
   "execution_count": 2,
   "metadata": {},
   "outputs": [],
   "source": [
    "url = \"https://drive.google.com/file/d/12PfTIfKDcFZ581YmQ7OXAbA5Ap1EAGLG/view?usp=drive_link\" \n",
    "path = \"https://drive.google.com/uc?export=download&id=\"+url.split(\"/\")[-2]\n",
    "spotifysongs = pd.read_csv(path)"
   ]
  },
  {
   "cell_type": "code",
   "execution_count": 3,
   "metadata": {},
   "outputs": [
    {
     "data": {
      "text/html": [
       "<div>\n",
       "<style scoped>\n",
       "    .dataframe tbody tr th:only-of-type {\n",
       "        vertical-align: middle;\n",
       "    }\n",
       "\n",
       "    .dataframe tbody tr th {\n",
       "        vertical-align: top;\n",
       "    }\n",
       "\n",
       "    .dataframe thead th {\n",
       "        text-align: right;\n",
       "    }\n",
       "</style>\n",
       "<table border=\"1\" class=\"dataframe\">\n",
       "  <thead>\n",
       "    <tr style=\"text-align: right;\">\n",
       "      <th></th>\n",
       "      <th>Unnamed: 0</th>\n",
       "      <th>name</th>\n",
       "      <th>artist</th>\n",
       "      <th>danceability</th>\n",
       "      <th>energy</th>\n",
       "      <th>key</th>\n",
       "      <th>loudness</th>\n",
       "      <th>mode</th>\n",
       "      <th>speechiness</th>\n",
       "      <th>acousticness</th>\n",
       "      <th>instrumentalness</th>\n",
       "      <th>liveness</th>\n",
       "      <th>valence</th>\n",
       "      <th>tempo</th>\n",
       "      <th>type</th>\n",
       "      <th>duration_ms</th>\n",
       "      <th>time_signature</th>\n",
       "      <th>id</th>\n",
       "      <th>html</th>\n",
       "    </tr>\n",
       "  </thead>\n",
       "  <tbody>\n",
       "    <tr>\n",
       "      <th>0</th>\n",
       "      <td>0</td>\n",
       "      <td>Se Eu Quiser Falar Com Deus                   ...</td>\n",
       "      <td>Gilberto Gil</td>\n",
       "      <td>0.6580</td>\n",
       "      <td>0.25900</td>\n",
       "      <td>11</td>\n",
       "      <td>-13.141</td>\n",
       "      <td>0</td>\n",
       "      <td>0.0705</td>\n",
       "      <td>0.694</td>\n",
       "      <td>0.000059</td>\n",
       "      <td>0.9750</td>\n",
       "      <td>0.3060</td>\n",
       "      <td>110.376</td>\n",
       "      <td></td>\n",
       "      <td>256213</td>\n",
       "      <td>4</td>\n",
       "      <td>1n7JnwviZ7zf0LR1tcGFq7</td>\n",
       "      <td>https://open.spotify.com/track/1n7JnwviZ7zf0LR...</td>\n",
       "    </tr>\n",
       "    <tr>\n",
       "      <th>1</th>\n",
       "      <td>1</td>\n",
       "      <td>Saudade De Bahia                              ...</td>\n",
       "      <td>Antônio Carlos Jobim</td>\n",
       "      <td>0.7420</td>\n",
       "      <td>0.39900</td>\n",
       "      <td>2</td>\n",
       "      <td>-12.646</td>\n",
       "      <td>1</td>\n",
       "      <td>0.0346</td>\n",
       "      <td>0.217</td>\n",
       "      <td>0.000002</td>\n",
       "      <td>0.1070</td>\n",
       "      <td>0.6930</td>\n",
       "      <td>125.039</td>\n",
       "      <td></td>\n",
       "      <td>191867</td>\n",
       "      <td>4</td>\n",
       "      <td>5QGM1U0eCYrQuwSJwTm5Zq</td>\n",
       "      <td>https://open.spotify.com/track/5QGM1U0eCYrQuwS...</td>\n",
       "    </tr>\n",
       "    <tr>\n",
       "      <th>2</th>\n",
       "      <td>2</td>\n",
       "      <td>Canta Canta, Minha Gente                      ...</td>\n",
       "      <td>Martinho Da Vila</td>\n",
       "      <td>0.8510</td>\n",
       "      <td>0.73000</td>\n",
       "      <td>2</td>\n",
       "      <td>-11.048</td>\n",
       "      <td>1</td>\n",
       "      <td>0.3470</td>\n",
       "      <td>0.453</td>\n",
       "      <td>0.000063</td>\n",
       "      <td>0.1240</td>\n",
       "      <td>0.9050</td>\n",
       "      <td>93.698</td>\n",
       "      <td></td>\n",
       "      <td>152267</td>\n",
       "      <td>4</td>\n",
       "      <td>0NLIFSZxPzQhCwnkn5PJYs</td>\n",
       "      <td>https://open.spotify.com/track/0NLIFSZxPzQhCwn...</td>\n",
       "    </tr>\n",
       "    <tr>\n",
       "      <th>3</th>\n",
       "      <td>3</td>\n",
       "      <td>Mulher Eu Sei                                 ...</td>\n",
       "      <td>Chico César</td>\n",
       "      <td>0.7050</td>\n",
       "      <td>0.05020</td>\n",
       "      <td>4</td>\n",
       "      <td>-18.115</td>\n",
       "      <td>1</td>\n",
       "      <td>0.0471</td>\n",
       "      <td>0.879</td>\n",
       "      <td>0.000041</td>\n",
       "      <td>0.3860</td>\n",
       "      <td>0.5240</td>\n",
       "      <td>106.802</td>\n",
       "      <td></td>\n",
       "      <td>186227</td>\n",
       "      <td>4</td>\n",
       "      <td>3mXqOdlLE1k67WsAxryPFs</td>\n",
       "      <td>https://open.spotify.com/track/3mXqOdlLE1k67Ws...</td>\n",
       "    </tr>\n",
       "    <tr>\n",
       "      <th>4</th>\n",
       "      <td>4</td>\n",
       "      <td>Rosa Morena                                   ...</td>\n",
       "      <td>Kurt Elling</td>\n",
       "      <td>0.6510</td>\n",
       "      <td>0.11900</td>\n",
       "      <td>6</td>\n",
       "      <td>-19.807</td>\n",
       "      <td>1</td>\n",
       "      <td>0.0380</td>\n",
       "      <td>0.916</td>\n",
       "      <td>0.000343</td>\n",
       "      <td>0.1040</td>\n",
       "      <td>0.4020</td>\n",
       "      <td>120.941</td>\n",
       "      <td></td>\n",
       "      <td>273680</td>\n",
       "      <td>4</td>\n",
       "      <td>7bSzjzjTkWT2CkIPPdp0eA</td>\n",
       "      <td>https://open.spotify.com/track/7bSzjzjTkWT2CkI...</td>\n",
       "    </tr>\n",
       "    <tr>\n",
       "      <th>...</th>\n",
       "      <td>...</td>\n",
       "      <td>...</td>\n",
       "      <td>...</td>\n",
       "      <td>...</td>\n",
       "      <td>...</td>\n",
       "      <td>...</td>\n",
       "      <td>...</td>\n",
       "      <td>...</td>\n",
       "      <td>...</td>\n",
       "      <td>...</td>\n",
       "      <td>...</td>\n",
       "      <td>...</td>\n",
       "      <td>...</td>\n",
       "      <td>...</td>\n",
       "      <td>...</td>\n",
       "      <td>...</td>\n",
       "      <td>...</td>\n",
       "      <td>...</td>\n",
       "      <td>...</td>\n",
       "    </tr>\n",
       "    <tr>\n",
       "      <th>5230</th>\n",
       "      <td>5230</td>\n",
       "      <td>1812 Festival Overture, Op. 49: 1812 Overture,...</td>\n",
       "      <td>Pyotr Ilyich Tchaikovsky</td>\n",
       "      <td>0.2020</td>\n",
       "      <td>0.06940</td>\n",
       "      <td>3</td>\n",
       "      <td>-23.390</td>\n",
       "      <td>1</td>\n",
       "      <td>0.0473</td>\n",
       "      <td>0.917</td>\n",
       "      <td>0.715000</td>\n",
       "      <td>0.0832</td>\n",
       "      <td>0.0655</td>\n",
       "      <td>87.906</td>\n",
       "      <td></td>\n",
       "      <td>995000</td>\n",
       "      <td>4</td>\n",
       "      <td>1aEhYlZtypmipA06SDJ4U3</td>\n",
       "      <td>https://open.spotify.com/track/1aEhYlZtypmipA0...</td>\n",
       "    </tr>\n",
       "    <tr>\n",
       "      <th>5231</th>\n",
       "      <td>5231</td>\n",
       "      <td>Winter Fragments pour ensemble instrumental, s...</td>\n",
       "      <td>Tristan Murail</td>\n",
       "      <td>0.1880</td>\n",
       "      <td>0.10100</td>\n",
       "      <td>6</td>\n",
       "      <td>-21.873</td>\n",
       "      <td>1</td>\n",
       "      <td>0.0442</td>\n",
       "      <td>0.855</td>\n",
       "      <td>0.426000</td>\n",
       "      <td>0.0694</td>\n",
       "      <td>0.0355</td>\n",
       "      <td>83.134</td>\n",
       "      <td></td>\n",
       "      <td>855000</td>\n",
       "      <td>4</td>\n",
       "      <td>1Gfqe7TAKklmuZf6hxsH6h</td>\n",
       "      <td>https://open.spotify.com/track/1Gfqe7TAKklmuZf...</td>\n",
       "    </tr>\n",
       "    <tr>\n",
       "      <th>5232</th>\n",
       "      <td>5232</td>\n",
       "      <td>Schoenberg: 5 Orchestral Pieces, Op. 16: No. 3...</td>\n",
       "      <td>Arnold Schoenberg</td>\n",
       "      <td>0.0596</td>\n",
       "      <td>0.00093</td>\n",
       "      <td>9</td>\n",
       "      <td>-42.959</td>\n",
       "      <td>1</td>\n",
       "      <td>0.0434</td>\n",
       "      <td>0.951</td>\n",
       "      <td>0.969000</td>\n",
       "      <td>0.0772</td>\n",
       "      <td>0.0344</td>\n",
       "      <td>71.573</td>\n",
       "      <td></td>\n",
       "      <td>238187</td>\n",
       "      <td>3</td>\n",
       "      <td>2XNwnFrdMDpismp0VUZ7cU</td>\n",
       "      <td>https://open.spotify.com/track/2XNwnFrdMDpismp...</td>\n",
       "    </tr>\n",
       "    <tr>\n",
       "      <th>5233</th>\n",
       "      <td>5233</td>\n",
       "      <td>Serenade For Strings In E, Op.22, B. 52: 1. Mo...</td>\n",
       "      <td>Antonín Dvořák</td>\n",
       "      <td>0.1330</td>\n",
       "      <td>0.02080</td>\n",
       "      <td>4</td>\n",
       "      <td>-29.443</td>\n",
       "      <td>1</td>\n",
       "      <td>0.0419</td>\n",
       "      <td>0.883</td>\n",
       "      <td>0.505000</td>\n",
       "      <td>0.1110</td>\n",
       "      <td>0.0591</td>\n",
       "      <td>67.109</td>\n",
       "      <td></td>\n",
       "      <td>314307</td>\n",
       "      <td>4</td>\n",
       "      <td>7ucDwgMtE3YJtEfTbuRhy0</td>\n",
       "      <td>https://open.spotify.com/track/7ucDwgMtE3YJtEf...</td>\n",
       "    </tr>\n",
       "    <tr>\n",
       "      <th>5234</th>\n",
       "      <td>5234</td>\n",
       "      <td>Ravel: Boléro, M. 81                          ...</td>\n",
       "      <td>Maurice Ravel</td>\n",
       "      <td>0.3540</td>\n",
       "      <td>0.04870</td>\n",
       "      <td>5</td>\n",
       "      <td>-24.568</td>\n",
       "      <td>1</td>\n",
       "      <td>0.0323</td>\n",
       "      <td>0.783</td>\n",
       "      <td>0.484000</td>\n",
       "      <td>0.2840</td>\n",
       "      <td>0.2530</td>\n",
       "      <td>64.120</td>\n",
       "      <td></td>\n",
       "      <td>948787</td>\n",
       "      <td>3</td>\n",
       "      <td>7E1ErYYCn0lYjHODZ1qGuB</td>\n",
       "      <td>https://open.spotify.com/track/7E1ErYYCn0lYjHO...</td>\n",
       "    </tr>\n",
       "  </tbody>\n",
       "</table>\n",
       "<p>5235 rows × 19 columns</p>\n",
       "</div>"
      ],
      "text/plain": [
       "      Unnamed: 0  \\\n",
       "0              0   \n",
       "1              1   \n",
       "2              2   \n",
       "3              3   \n",
       "4              4   \n",
       "...          ...   \n",
       "5230        5230   \n",
       "5231        5231   \n",
       "5232        5232   \n",
       "5233        5233   \n",
       "5234        5234   \n",
       "\n",
       "     name                                                                                                                                                                               \\\n",
       "0     Se Eu Quiser Falar Com Deus                   ...                                                                                                                                  \n",
       "1     Saudade De Bahia                              ...                                                                                                                                  \n",
       "2     Canta Canta, Minha Gente                      ...                                                                                                                                  \n",
       "3     Mulher Eu Sei                                 ...                                                                                                                                  \n",
       "4     Rosa Morena                                   ...                                                                                                                                  \n",
       "...                                                 ...                                                                                                                                  \n",
       "5230  1812 Festival Overture, Op. 49: 1812 Overture,...                                                                                                                                  \n",
       "5231  Winter Fragments pour ensemble instrumental, s...                                                                                                                                  \n",
       "5232  Schoenberg: 5 Orchestral Pieces, Op. 16: No. 3...                                                                                                                                  \n",
       "5233  Serenade For Strings In E, Op.22, B. 52: 1. Mo...                                                                                                                                  \n",
       "5234  Ravel: Boléro, M. 81                          ...                                                                                                                                  \n",
       "\n",
       "      artist                                            danceability   \\\n",
       "0     Gilberto Gil                                             0.6580   \n",
       "1     Antônio Carlos Jobim                                     0.7420   \n",
       "2     Martinho Da Vila                                         0.8510   \n",
       "3     Chico César                                              0.7050   \n",
       "4     Kurt Elling                                              0.6510   \n",
       "...                                                ...            ...   \n",
       "5230  Pyotr Ilyich Tchaikovsky                                 0.2020   \n",
       "5231  Tristan Murail                                           0.1880   \n",
       "5232  Arnold Schoenberg                                        0.0596   \n",
       "5233  Antonín Dvořák                                           0.1330   \n",
       "5234  Maurice Ravel                                            0.3540   \n",
       "\n",
       "      energy     key   loudness   mode   speechiness   acousticness   \\\n",
       "0       0.25900    11    -13.141      0        0.0705          0.694   \n",
       "1       0.39900     2    -12.646      1        0.0346          0.217   \n",
       "2       0.73000     2    -11.048      1        0.3470          0.453   \n",
       "3       0.05020     4    -18.115      1        0.0471          0.879   \n",
       "4       0.11900     6    -19.807      1        0.0380          0.916   \n",
       "...         ...   ...        ...    ...           ...            ...   \n",
       "5230    0.06940     3    -23.390      1        0.0473          0.917   \n",
       "5231    0.10100     6    -21.873      1        0.0442          0.855   \n",
       "5232    0.00093     9    -42.959      1        0.0434          0.951   \n",
       "5233    0.02080     4    -29.443      1        0.0419          0.883   \n",
       "5234    0.04870     5    -24.568      1        0.0323          0.783   \n",
       "\n",
       "      instrumentalness   liveness   valence   tempo     type   duration_ms   \\\n",
       "0              0.000059     0.9750    0.3060   110.376               256213   \n",
       "1              0.000002     0.1070    0.6930   125.039               191867   \n",
       "2              0.000063     0.1240    0.9050    93.698               152267   \n",
       "3              0.000041     0.3860    0.5240   106.802               186227   \n",
       "4              0.000343     0.1040    0.4020   120.941               273680   \n",
       "...                 ...        ...       ...       ...    ...           ...   \n",
       "5230           0.715000     0.0832    0.0655    87.906               995000   \n",
       "5231           0.426000     0.0694    0.0355    83.134               855000   \n",
       "5232           0.969000     0.0772    0.0344    71.573               238187   \n",
       "5233           0.505000     0.1110    0.0591    67.109               314307   \n",
       "5234           0.484000     0.2840    0.2530    64.120               948787   \n",
       "\n",
       "      time_signature   id                       \\\n",
       "0                   4  1n7JnwviZ7zf0LR1tcGFq7    \n",
       "1                   4  5QGM1U0eCYrQuwSJwTm5Zq    \n",
       "2                   4  0NLIFSZxPzQhCwnkn5PJYs    \n",
       "3                   4  3mXqOdlLE1k67WsAxryPFs    \n",
       "4                   4  7bSzjzjTkWT2CkIPPdp0eA    \n",
       "...               ...                      ...   \n",
       "5230                4  1aEhYlZtypmipA06SDJ4U3    \n",
       "5231                4  1Gfqe7TAKklmuZf6hxsH6h    \n",
       "5232                3  2XNwnFrdMDpismp0VUZ7cU    \n",
       "5233                4  7ucDwgMtE3YJtEfTbuRhy0    \n",
       "5234                3  7E1ErYYCn0lYjHODZ1qGuB    \n",
       "\n",
       "                                                   html  \n",
       "0     https://open.spotify.com/track/1n7JnwviZ7zf0LR...  \n",
       "1     https://open.spotify.com/track/5QGM1U0eCYrQuwS...  \n",
       "2     https://open.spotify.com/track/0NLIFSZxPzQhCwn...  \n",
       "3     https://open.spotify.com/track/3mXqOdlLE1k67Ws...  \n",
       "4     https://open.spotify.com/track/7bSzjzjTkWT2CkI...  \n",
       "...                                                 ...  \n",
       "5230  https://open.spotify.com/track/1aEhYlZtypmipA0...  \n",
       "5231  https://open.spotify.com/track/1Gfqe7TAKklmuZf...  \n",
       "5232  https://open.spotify.com/track/2XNwnFrdMDpismp...  \n",
       "5233  https://open.spotify.com/track/7ucDwgMtE3YJtEf...  \n",
       "5234  https://open.spotify.com/track/7E1ErYYCn0lYjHO...  \n",
       "\n",
       "[5235 rows x 19 columns]"
      ]
     },
     "execution_count": 3,
     "metadata": {},
     "output_type": "execute_result"
    }
   ],
   "source": [
    "spotifysongs"
   ]
  },
  {
   "cell_type": "markdown",
   "metadata": {},
   "source": [
    "### Data Cleaning"
   ]
  },
  {
   "cell_type": "code",
   "execution_count": 4,
   "metadata": {},
   "outputs": [
    {
     "name": "stdout",
     "output_type": "stream",
     "text": [
      "<class 'pandas.core.frame.DataFrame'>\n",
      "RangeIndex: 5235 entries, 0 to 5234\n",
      "Data columns (total 19 columns):\n",
      " #   Column                                                                                                                                                                             Non-Null Count  Dtype  \n",
      "---  ------                                                                                                                                                                             --------------  -----  \n",
      " 0   Unnamed: 0                                                                                                                                                                         5235 non-null   int64  \n",
      " 1   name                                                                                                                                                                               5235 non-null   object \n",
      " 2   artist                                                                                                                                                                             5235 non-null   object \n",
      " 3   danceability                                                                                                                                                                       5235 non-null   float64\n",
      " 4   energy                                                                                                                                                                             5235 non-null   float64\n",
      " 5   key                                                                                                                                                                                5235 non-null   int64  \n",
      " 6   loudness                                                                                                                                                                           5235 non-null   float64\n",
      " 7   mode                                                                                                                                                                               5235 non-null   int64  \n",
      " 8   speechiness                                                                                                                                                                        5235 non-null   float64\n",
      " 9   acousticness                                                                                                                                                                       5235 non-null   float64\n",
      " 10  instrumentalness                                                                                                                                                                   5235 non-null   float64\n",
      " 11  liveness                                                                                                                                                                           5235 non-null   float64\n",
      " 12  valence                                                                                                                                                                            5235 non-null   float64\n",
      " 13  tempo                                                                                                                                                                              5235 non-null   float64\n",
      " 14  type                                                                                                                                                                               5235 non-null   object \n",
      " 15  duration_ms                                                                                                                                                                        5235 non-null   int64  \n",
      " 16  time_signature                                                                                                                                                                     5235 non-null   int64  \n",
      " 17  id                                                                                                                                                                                 5235 non-null   object \n",
      " 18  html                                                                                                                                                                               5235 non-null   object \n",
      "dtypes: float64(9), int64(5), object(5)\n",
      "memory usage: 777.2+ KB\n"
     ]
    }
   ],
   "source": [
    "spotifysongs.info()"
   ]
  },
  {
   "cell_type": "code",
   "execution_count": 5,
   "metadata": {},
   "outputs": [],
   "source": [
    "# Strip white spaces in columns\n",
    "spotifysongs.columns = spotifysongs.columns.str.strip()"
   ]
  },
  {
   "cell_type": "code",
   "execution_count": 7,
   "metadata": {},
   "outputs": [
    {
     "name": "stdout",
     "output_type": "stream",
     "text": [
      "<class 'pandas.core.frame.DataFrame'>\n",
      "RangeIndex: 5235 entries, 0 to 5234\n",
      "Data columns (total 19 columns):\n",
      " #   Column            Non-Null Count  Dtype  \n",
      "---  ------            --------------  -----  \n",
      " 0   Unnamed: 0        5235 non-null   int64  \n",
      " 1   name              5235 non-null   object \n",
      " 2   artist            5235 non-null   object \n",
      " 3   danceability      5235 non-null   float64\n",
      " 4   energy            5235 non-null   float64\n",
      " 5   key               5235 non-null   int64  \n",
      " 6   loudness          5235 non-null   float64\n",
      " 7   mode              5235 non-null   int64  \n",
      " 8   speechiness       5235 non-null   float64\n",
      " 9   acousticness      5235 non-null   float64\n",
      " 10  instrumentalness  5235 non-null   float64\n",
      " 11  liveness          5235 non-null   float64\n",
      " 12  valence           5235 non-null   float64\n",
      " 13  tempo             5235 non-null   float64\n",
      " 14  type              5235 non-null   object \n",
      " 15  duration_ms       5235 non-null   int64  \n",
      " 16  time_signature    5235 non-null   int64  \n",
      " 17  id                5235 non-null   object \n",
      " 18  html              5235 non-null   object \n",
      "dtypes: float64(9), int64(5), object(5)\n",
      "memory usage: 777.2+ KB\n"
     ]
    }
   ],
   "source": [
    "spotifysongs.info()"
   ]
  },
  {
   "cell_type": "code",
   "execution_count": 6,
   "metadata": {},
   "outputs": [
    {
     "data": {
      "text/plain": [
       "Unnamed: 0          0\n",
       "name                0\n",
       "artist              0\n",
       "danceability        0\n",
       "energy              0\n",
       "key                 0\n",
       "loudness            0\n",
       "mode                0\n",
       "speechiness         0\n",
       "acousticness        0\n",
       "instrumentalness    0\n",
       "liveness            0\n",
       "valence             0\n",
       "tempo               0\n",
       "type                0\n",
       "duration_ms         0\n",
       "time_signature      0\n",
       "id                  0\n",
       "html                0\n",
       "dtype: int64"
      ]
     },
     "execution_count": 6,
     "metadata": {},
     "output_type": "execute_result"
    }
   ],
   "source": [
    "# check for missing values\n",
    "spotifysongs.isnull().sum()"
   ]
  },
  {
   "cell_type": "code",
   "execution_count": 7,
   "metadata": {},
   "outputs": [
    {
     "data": {
      "text/plain": [
       "0"
      ]
     },
     "execution_count": 7,
     "metadata": {},
     "output_type": "execute_result"
    }
   ],
   "source": [
    "# check for duplicates after dropping columns\n",
    "spotifysongs.duplicated().sum()"
   ]
  },
  {
   "cell_type": "code",
   "execution_count": 8,
   "metadata": {},
   "outputs": [
    {
     "data": {
      "text/html": [
       "<div>\n",
       "<style scoped>\n",
       "    .dataframe tbody tr th:only-of-type {\n",
       "        vertical-align: middle;\n",
       "    }\n",
       "\n",
       "    .dataframe tbody tr th {\n",
       "        vertical-align: top;\n",
       "    }\n",
       "\n",
       "    .dataframe thead th {\n",
       "        text-align: right;\n",
       "    }\n",
       "</style>\n",
       "<table border=\"1\" class=\"dataframe\">\n",
       "  <thead>\n",
       "    <tr style=\"text-align: right;\">\n",
       "      <th></th>\n",
       "      <th>name</th>\n",
       "      <th>artist</th>\n",
       "      <th>danceability</th>\n",
       "      <th>energy</th>\n",
       "      <th>key</th>\n",
       "      <th>loudness</th>\n",
       "      <th>mode</th>\n",
       "      <th>speechiness</th>\n",
       "      <th>acousticness</th>\n",
       "      <th>instrumentalness</th>\n",
       "      <th>liveness</th>\n",
       "      <th>valence</th>\n",
       "      <th>tempo</th>\n",
       "      <th>time_signature</th>\n",
       "      <th>id</th>\n",
       "    </tr>\n",
       "  </thead>\n",
       "  <tbody>\n",
       "    <tr>\n",
       "      <th>0</th>\n",
       "      <td>Se Eu Quiser Falar Com Deus                   ...</td>\n",
       "      <td>Gilberto Gil</td>\n",
       "      <td>0.658</td>\n",
       "      <td>0.2590</td>\n",
       "      <td>11</td>\n",
       "      <td>-13.141</td>\n",
       "      <td>0</td>\n",
       "      <td>0.0705</td>\n",
       "      <td>0.694</td>\n",
       "      <td>0.000059</td>\n",
       "      <td>0.975</td>\n",
       "      <td>0.306</td>\n",
       "      <td>110.376</td>\n",
       "      <td>4</td>\n",
       "      <td>1n7JnwviZ7zf0LR1tcGFq7</td>\n",
       "    </tr>\n",
       "    <tr>\n",
       "      <th>1</th>\n",
       "      <td>Saudade De Bahia                              ...</td>\n",
       "      <td>Antônio Carlos Jobim</td>\n",
       "      <td>0.742</td>\n",
       "      <td>0.3990</td>\n",
       "      <td>2</td>\n",
       "      <td>-12.646</td>\n",
       "      <td>1</td>\n",
       "      <td>0.0346</td>\n",
       "      <td>0.217</td>\n",
       "      <td>0.000002</td>\n",
       "      <td>0.107</td>\n",
       "      <td>0.693</td>\n",
       "      <td>125.039</td>\n",
       "      <td>4</td>\n",
       "      <td>5QGM1U0eCYrQuwSJwTm5Zq</td>\n",
       "    </tr>\n",
       "    <tr>\n",
       "      <th>2</th>\n",
       "      <td>Canta Canta, Minha Gente                      ...</td>\n",
       "      <td>Martinho Da Vila</td>\n",
       "      <td>0.851</td>\n",
       "      <td>0.7300</td>\n",
       "      <td>2</td>\n",
       "      <td>-11.048</td>\n",
       "      <td>1</td>\n",
       "      <td>0.3470</td>\n",
       "      <td>0.453</td>\n",
       "      <td>0.000063</td>\n",
       "      <td>0.124</td>\n",
       "      <td>0.905</td>\n",
       "      <td>93.698</td>\n",
       "      <td>4</td>\n",
       "      <td>0NLIFSZxPzQhCwnkn5PJYs</td>\n",
       "    </tr>\n",
       "    <tr>\n",
       "      <th>3</th>\n",
       "      <td>Mulher Eu Sei                                 ...</td>\n",
       "      <td>Chico César</td>\n",
       "      <td>0.705</td>\n",
       "      <td>0.0502</td>\n",
       "      <td>4</td>\n",
       "      <td>-18.115</td>\n",
       "      <td>1</td>\n",
       "      <td>0.0471</td>\n",
       "      <td>0.879</td>\n",
       "      <td>0.000041</td>\n",
       "      <td>0.386</td>\n",
       "      <td>0.524</td>\n",
       "      <td>106.802</td>\n",
       "      <td>4</td>\n",
       "      <td>3mXqOdlLE1k67WsAxryPFs</td>\n",
       "    </tr>\n",
       "    <tr>\n",
       "      <th>4</th>\n",
       "      <td>Rosa Morena                                   ...</td>\n",
       "      <td>Kurt Elling</td>\n",
       "      <td>0.651</td>\n",
       "      <td>0.1190</td>\n",
       "      <td>6</td>\n",
       "      <td>-19.807</td>\n",
       "      <td>1</td>\n",
       "      <td>0.0380</td>\n",
       "      <td>0.916</td>\n",
       "      <td>0.000343</td>\n",
       "      <td>0.104</td>\n",
       "      <td>0.402</td>\n",
       "      <td>120.941</td>\n",
       "      <td>4</td>\n",
       "      <td>7bSzjzjTkWT2CkIPPdp0eA</td>\n",
       "    </tr>\n",
       "  </tbody>\n",
       "</table>\n",
       "</div>"
      ],
      "text/plain": [
       "                                                name  \\\n",
       "0  Se Eu Quiser Falar Com Deus                   ...   \n",
       "1  Saudade De Bahia                              ...   \n",
       "2  Canta Canta, Minha Gente                      ...   \n",
       "3  Mulher Eu Sei                                 ...   \n",
       "4  Rosa Morena                                   ...   \n",
       "\n",
       "                                             artist  danceability  energy  \\\n",
       "0  Gilberto Gil                                             0.658  0.2590   \n",
       "1  Antônio Carlos Jobim                                     0.742  0.3990   \n",
       "2  Martinho Da Vila                                         0.851  0.7300   \n",
       "3  Chico César                                              0.705  0.0502   \n",
       "4  Kurt Elling                                              0.651  0.1190   \n",
       "\n",
       "   key  loudness  mode  speechiness  acousticness  instrumentalness  liveness  \\\n",
       "0   11   -13.141     0       0.0705         0.694          0.000059     0.975   \n",
       "1    2   -12.646     1       0.0346         0.217          0.000002     0.107   \n",
       "2    2   -11.048     1       0.3470         0.453          0.000063     0.124   \n",
       "3    4   -18.115     1       0.0471         0.879          0.000041     0.386   \n",
       "4    6   -19.807     1       0.0380         0.916          0.000343     0.104   \n",
       "\n",
       "   valence    tempo  time_signature                       id  \n",
       "0    0.306  110.376               4  1n7JnwviZ7zf0LR1tcGFq7   \n",
       "1    0.693  125.039               4  5QGM1U0eCYrQuwSJwTm5Zq   \n",
       "2    0.905   93.698               4  0NLIFSZxPzQhCwnkn5PJYs   \n",
       "3    0.524  106.802               4  3mXqOdlLE1k67WsAxryPFs   \n",
       "4    0.402  120.941               4  7bSzjzjTkWT2CkIPPdp0eA   "
      ]
     },
     "execution_count": 8,
     "metadata": {},
     "output_type": "execute_result"
    }
   ],
   "source": [
    "# drop columns Unnamed: 0', 'type', 'id', 'html' \n",
    "spotifysongs = spotifysongs.drop(columns=['Unnamed: 0', 'duration_ms', 'type', 'html'])\n",
    "spotifysongs.head()"
   ]
  },
  {
   "cell_type": "code",
   "execution_count": 9,
   "metadata": {},
   "outputs": [
    {
     "name": "stdout",
     "output_type": "stream",
     "text": [
      "<class 'pandas.core.frame.DataFrame'>\n",
      "RangeIndex: 5235 entries, 0 to 5234\n",
      "Data columns (total 15 columns):\n",
      " #   Column            Non-Null Count  Dtype  \n",
      "---  ------            --------------  -----  \n",
      " 0   name              5235 non-null   object \n",
      " 1   artist            5235 non-null   object \n",
      " 2   danceability      5235 non-null   float64\n",
      " 3   energy            5235 non-null   float64\n",
      " 4   key               5235 non-null   int64  \n",
      " 5   loudness          5235 non-null   float64\n",
      " 6   mode              5235 non-null   int64  \n",
      " 7   speechiness       5235 non-null   float64\n",
      " 8   acousticness      5235 non-null   float64\n",
      " 9   instrumentalness  5235 non-null   float64\n",
      " 10  liveness          5235 non-null   float64\n",
      " 11  valence           5235 non-null   float64\n",
      " 12  tempo             5235 non-null   float64\n",
      " 13  time_signature    5235 non-null   int64  \n",
      " 14  id                5235 non-null   object \n",
      "dtypes: float64(9), int64(3), object(3)\n",
      "memory usage: 613.6+ KB\n"
     ]
    }
   ],
   "source": [
    "spotifysongs.info()"
   ]
  },
  {
   "cell_type": "code",
   "execution_count": 10,
   "metadata": {},
   "outputs": [],
   "source": [
    "# copy of the dataframe\n",
    "df = spotifysongs.copy()"
   ]
  },
  {
   "cell_type": "code",
   "execution_count": 11,
   "metadata": {},
   "outputs": [
    {
     "data": {
      "text/plain": [
       "64"
      ]
     },
     "execution_count": 11,
     "metadata": {},
     "output_type": "execute_result"
    }
   ],
   "source": [
    "# check for duplicates after dropping columns\n",
    "df.duplicated().sum()"
   ]
  },
  {
   "cell_type": "code",
   "execution_count": 12,
   "metadata": {},
   "outputs": [
    {
     "name": "stdout",
     "output_type": "stream",
     "text": [
      "<class 'pandas.core.frame.DataFrame'>\n",
      "Index: 5171 entries, 0 to 5234\n",
      "Data columns (total 15 columns):\n",
      " #   Column            Non-Null Count  Dtype  \n",
      "---  ------            --------------  -----  \n",
      " 0   name              5171 non-null   object \n",
      " 1   artist            5171 non-null   object \n",
      " 2   danceability      5171 non-null   float64\n",
      " 3   energy            5171 non-null   float64\n",
      " 4   key               5171 non-null   int64  \n",
      " 5   loudness          5171 non-null   float64\n",
      " 6   mode              5171 non-null   int64  \n",
      " 7   speechiness       5171 non-null   float64\n",
      " 8   acousticness      5171 non-null   float64\n",
      " 9   instrumentalness  5171 non-null   float64\n",
      " 10  liveness          5171 non-null   float64\n",
      " 11  valence           5171 non-null   float64\n",
      " 12  tempo             5171 non-null   float64\n",
      " 13  time_signature    5171 non-null   int64  \n",
      " 14  id                5171 non-null   object \n",
      "dtypes: float64(9), int64(3), object(3)\n",
      "memory usage: 646.4+ KB\n"
     ]
    }
   ],
   "source": [
    "# drop duplicates\n",
    "df = df.drop_duplicates()\n",
    "df.info()\n"
   ]
  },
  {
   "cell_type": "markdown",
   "metadata": {},
   "source": [
    "### Data Exploration"
   ]
  },
  {
   "cell_type": "code",
   "execution_count": 13,
   "metadata": {},
   "outputs": [
    {
     "data": {
      "text/html": [
       "<div>\n",
       "<style scoped>\n",
       "    .dataframe tbody tr th:only-of-type {\n",
       "        vertical-align: middle;\n",
       "    }\n",
       "\n",
       "    .dataframe tbody tr th {\n",
       "        vertical-align: top;\n",
       "    }\n",
       "\n",
       "    .dataframe thead th {\n",
       "        text-align: right;\n",
       "    }\n",
       "</style>\n",
       "<table border=\"1\" class=\"dataframe\">\n",
       "  <thead>\n",
       "    <tr style=\"text-align: right;\">\n",
       "      <th></th>\n",
       "      <th>danceability</th>\n",
       "      <th>energy</th>\n",
       "      <th>key</th>\n",
       "      <th>loudness</th>\n",
       "      <th>mode</th>\n",
       "      <th>speechiness</th>\n",
       "      <th>acousticness</th>\n",
       "      <th>instrumentalness</th>\n",
       "      <th>liveness</th>\n",
       "      <th>valence</th>\n",
       "      <th>tempo</th>\n",
       "      <th>time_signature</th>\n",
       "    </tr>\n",
       "  </thead>\n",
       "  <tbody>\n",
       "    <tr>\n",
       "      <th>count</th>\n",
       "      <td>5171.000000</td>\n",
       "      <td>5171.000000</td>\n",
       "      <td>5171.000000</td>\n",
       "      <td>5171.00000</td>\n",
       "      <td>5171.000000</td>\n",
       "      <td>5171.000000</td>\n",
       "      <td>5171.000000</td>\n",
       "      <td>5171.000000</td>\n",
       "      <td>5171.000000</td>\n",
       "      <td>5171.000000</td>\n",
       "      <td>5171.000000</td>\n",
       "      <td>5171.000000</td>\n",
       "    </tr>\n",
       "    <tr>\n",
       "      <th>mean</th>\n",
       "      <td>0.507604</td>\n",
       "      <td>0.653282</td>\n",
       "      <td>5.264939</td>\n",
       "      <td>-9.37628</td>\n",
       "      <td>0.647264</td>\n",
       "      <td>0.083165</td>\n",
       "      <td>0.291275</td>\n",
       "      <td>0.260326</td>\n",
       "      <td>0.185573</td>\n",
       "      <td>0.442248</td>\n",
       "      <td>118.667082</td>\n",
       "      <td>3.901566</td>\n",
       "    </tr>\n",
       "    <tr>\n",
       "      <th>std</th>\n",
       "      <td>0.218101</td>\n",
       "      <td>0.289464</td>\n",
       "      <td>3.571514</td>\n",
       "      <td>6.31599</td>\n",
       "      <td>0.477868</td>\n",
       "      <td>0.071136</td>\n",
       "      <td>0.356862</td>\n",
       "      <td>0.371854</td>\n",
       "      <td>0.149652</td>\n",
       "      <td>0.277927</td>\n",
       "      <td>28.587880</td>\n",
       "      <td>0.422047</td>\n",
       "    </tr>\n",
       "    <tr>\n",
       "      <th>min</th>\n",
       "      <td>0.000000</td>\n",
       "      <td>0.000000</td>\n",
       "      <td>0.000000</td>\n",
       "      <td>-60.00000</td>\n",
       "      <td>0.000000</td>\n",
       "      <td>0.000000</td>\n",
       "      <td>0.000000</td>\n",
       "      <td>0.000000</td>\n",
       "      <td>0.000000</td>\n",
       "      <td>0.000000</td>\n",
       "      <td>0.000000</td>\n",
       "      <td>0.000000</td>\n",
       "    </tr>\n",
       "    <tr>\n",
       "      <th>25%</th>\n",
       "      <td>0.306000</td>\n",
       "      <td>0.475500</td>\n",
       "      <td>2.000000</td>\n",
       "      <td>-11.38200</td>\n",
       "      <td>0.000000</td>\n",
       "      <td>0.038900</td>\n",
       "      <td>0.002320</td>\n",
       "      <td>0.000001</td>\n",
       "      <td>0.092550</td>\n",
       "      <td>0.195000</td>\n",
       "      <td>96.083500</td>\n",
       "      <td>4.000000</td>\n",
       "    </tr>\n",
       "    <tr>\n",
       "      <th>50%</th>\n",
       "      <td>0.536000</td>\n",
       "      <td>0.738000</td>\n",
       "      <td>5.000000</td>\n",
       "      <td>-7.35800</td>\n",
       "      <td>1.000000</td>\n",
       "      <td>0.055600</td>\n",
       "      <td>0.095900</td>\n",
       "      <td>0.002210</td>\n",
       "      <td>0.125000</td>\n",
       "      <td>0.415000</td>\n",
       "      <td>119.058000</td>\n",
       "      <td>4.000000</td>\n",
       "    </tr>\n",
       "    <tr>\n",
       "      <th>75%</th>\n",
       "      <td>0.686500</td>\n",
       "      <td>0.895000</td>\n",
       "      <td>8.000000</td>\n",
       "      <td>-5.29550</td>\n",
       "      <td>1.000000</td>\n",
       "      <td>0.098800</td>\n",
       "      <td>0.570000</td>\n",
       "      <td>0.656000</td>\n",
       "      <td>0.237000</td>\n",
       "      <td>0.676000</td>\n",
       "      <td>134.039500</td>\n",
       "      <td>4.000000</td>\n",
       "    </tr>\n",
       "    <tr>\n",
       "      <th>max</th>\n",
       "      <td>0.967000</td>\n",
       "      <td>1.000000</td>\n",
       "      <td>11.000000</td>\n",
       "      <td>1.34200</td>\n",
       "      <td>1.000000</td>\n",
       "      <td>0.918000</td>\n",
       "      <td>0.996000</td>\n",
       "      <td>0.985000</td>\n",
       "      <td>0.987000</td>\n",
       "      <td>0.985000</td>\n",
       "      <td>213.990000</td>\n",
       "      <td>5.000000</td>\n",
       "    </tr>\n",
       "  </tbody>\n",
       "</table>\n",
       "</div>"
      ],
      "text/plain": [
       "       danceability       energy          key    loudness         mode  \\\n",
       "count   5171.000000  5171.000000  5171.000000  5171.00000  5171.000000   \n",
       "mean       0.507604     0.653282     5.264939    -9.37628     0.647264   \n",
       "std        0.218101     0.289464     3.571514     6.31599     0.477868   \n",
       "min        0.000000     0.000000     0.000000   -60.00000     0.000000   \n",
       "25%        0.306000     0.475500     2.000000   -11.38200     0.000000   \n",
       "50%        0.536000     0.738000     5.000000    -7.35800     1.000000   \n",
       "75%        0.686500     0.895000     8.000000    -5.29550     1.000000   \n",
       "max        0.967000     1.000000    11.000000     1.34200     1.000000   \n",
       "\n",
       "       speechiness  acousticness  instrumentalness     liveness      valence  \\\n",
       "count  5171.000000   5171.000000       5171.000000  5171.000000  5171.000000   \n",
       "mean      0.083165      0.291275          0.260326     0.185573     0.442248   \n",
       "std       0.071136      0.356862          0.371854     0.149652     0.277927   \n",
       "min       0.000000      0.000000          0.000000     0.000000     0.000000   \n",
       "25%       0.038900      0.002320          0.000001     0.092550     0.195000   \n",
       "50%       0.055600      0.095900          0.002210     0.125000     0.415000   \n",
       "75%       0.098800      0.570000          0.656000     0.237000     0.676000   \n",
       "max       0.918000      0.996000          0.985000     0.987000     0.985000   \n",
       "\n",
       "             tempo  time_signature  \n",
       "count  5171.000000     5171.000000  \n",
       "mean    118.667082        3.901566  \n",
       "std      28.587880        0.422047  \n",
       "min       0.000000        0.000000  \n",
       "25%      96.083500        4.000000  \n",
       "50%     119.058000        4.000000  \n",
       "75%     134.039500        4.000000  \n",
       "max     213.990000        5.000000  "
      ]
     },
     "execution_count": 13,
     "metadata": {},
     "output_type": "execute_result"
    }
   ],
   "source": [
    "# summary statistics\n",
    "df.describe()"
   ]
  },
  {
   "cell_type": "markdown",
   "metadata": {},
   "source": [
    "### Preprocessing"
   ]
  },
  {
   "cell_type": "markdown",
   "metadata": {},
   "source": [
    "### &nbsp; Scale the data 📐"
   ]
  },
  {
   "cell_type": "code",
   "execution_count": 14,
   "metadata": {},
   "outputs": [
    {
     "data": {
      "text/plain": [
       "Index(['name', 'artist', 'danceability', 'energy', 'key', 'loudness', 'mode',\n",
       "       'speechiness', 'acousticness', 'instrumentalness', 'liveness',\n",
       "       'valence', 'tempo', 'time_signature', 'id'],\n",
       "      dtype='object')"
      ]
     },
     "execution_count": 14,
     "metadata": {},
     "output_type": "execute_result"
    }
   ],
   "source": [
    "df.columns"
   ]
  },
  {
   "cell_type": "code",
   "execution_count": 15,
   "metadata": {},
   "outputs": [],
   "source": [
    "# select numeric columns for scaling\n",
    "numeric_columns = [\n",
    "    'danceability', 'energy', 'key', 'loudness', 'mode',\n",
    "    'speechiness', 'acousticness', 'instrumentalness', \n",
    "    'liveness', 'valence', 'tempo', 'time_signature'\n",
    "]"
   ]
  },
  {
   "cell_type": "code",
   "execution_count": 16,
   "metadata": {},
   "outputs": [],
   "source": [
    "from sklearn.preprocessing import MinMaxScaler\n",
    "\n",
    "# Initialize the MinMaxScaler\n",
    "scaler = MinMaxScaler()\n",
    "\n",
    "df_scaled = scaler.fit_transform(df[numeric_columns])"
   ]
  },
  {
   "cell_type": "code",
   "execution_count": 17,
   "metadata": {},
   "outputs": [
    {
     "data": {
      "text/html": [
       "<div>\n",
       "<style scoped>\n",
       "    .dataframe tbody tr th:only-of-type {\n",
       "        vertical-align: middle;\n",
       "    }\n",
       "\n",
       "    .dataframe tbody tr th {\n",
       "        vertical-align: top;\n",
       "    }\n",
       "\n",
       "    .dataframe thead th {\n",
       "        text-align: right;\n",
       "    }\n",
       "</style>\n",
       "<table border=\"1\" class=\"dataframe\">\n",
       "  <thead>\n",
       "    <tr style=\"text-align: right;\">\n",
       "      <th></th>\n",
       "      <th>danceability</th>\n",
       "      <th>energy</th>\n",
       "      <th>key</th>\n",
       "      <th>loudness</th>\n",
       "      <th>mode</th>\n",
       "      <th>speechiness</th>\n",
       "      <th>acousticness</th>\n",
       "      <th>instrumentalness</th>\n",
       "      <th>liveness</th>\n",
       "      <th>valence</th>\n",
       "      <th>tempo</th>\n",
       "      <th>time_signature</th>\n",
       "    </tr>\n",
       "  </thead>\n",
       "  <tbody>\n",
       "    <tr>\n",
       "      <th>0</th>\n",
       "      <td>0.680455</td>\n",
       "      <td>0.2590</td>\n",
       "      <td>1.000000</td>\n",
       "      <td>0.763897</td>\n",
       "      <td>0.0</td>\n",
       "      <td>0.076797</td>\n",
       "      <td>0.696787</td>\n",
       "      <td>0.000060</td>\n",
       "      <td>0.987842</td>\n",
       "      <td>0.310660</td>\n",
       "      <td>0.515800</td>\n",
       "      <td>0.8</td>\n",
       "    </tr>\n",
       "    <tr>\n",
       "      <th>1</th>\n",
       "      <td>0.767322</td>\n",
       "      <td>0.3990</td>\n",
       "      <td>0.181818</td>\n",
       "      <td>0.771967</td>\n",
       "      <td>1.0</td>\n",
       "      <td>0.037691</td>\n",
       "      <td>0.217871</td>\n",
       "      <td>0.000002</td>\n",
       "      <td>0.108409</td>\n",
       "      <td>0.703553</td>\n",
       "      <td>0.584322</td>\n",
       "      <td>0.8</td>\n",
       "    </tr>\n",
       "    <tr>\n",
       "      <th>2</th>\n",
       "      <td>0.880041</td>\n",
       "      <td>0.7300</td>\n",
       "      <td>0.181818</td>\n",
       "      <td>0.798018</td>\n",
       "      <td>1.0</td>\n",
       "      <td>0.377996</td>\n",
       "      <td>0.454819</td>\n",
       "      <td>0.000064</td>\n",
       "      <td>0.125633</td>\n",
       "      <td>0.918782</td>\n",
       "      <td>0.437862</td>\n",
       "      <td>0.8</td>\n",
       "    </tr>\n",
       "    <tr>\n",
       "      <th>3</th>\n",
       "      <td>0.729059</td>\n",
       "      <td>0.0502</td>\n",
       "      <td>0.363636</td>\n",
       "      <td>0.682811</td>\n",
       "      <td>1.0</td>\n",
       "      <td>0.051307</td>\n",
       "      <td>0.882530</td>\n",
       "      <td>0.000041</td>\n",
       "      <td>0.391084</td>\n",
       "      <td>0.531980</td>\n",
       "      <td>0.499098</td>\n",
       "      <td>0.8</td>\n",
       "    </tr>\n",
       "    <tr>\n",
       "      <th>4</th>\n",
       "      <td>0.673216</td>\n",
       "      <td>0.1190</td>\n",
       "      <td>0.545455</td>\n",
       "      <td>0.655228</td>\n",
       "      <td>1.0</td>\n",
       "      <td>0.041394</td>\n",
       "      <td>0.919679</td>\n",
       "      <td>0.000348</td>\n",
       "      <td>0.105370</td>\n",
       "      <td>0.408122</td>\n",
       "      <td>0.565171</td>\n",
       "      <td>0.8</td>\n",
       "    </tr>\n",
       "  </tbody>\n",
       "</table>\n",
       "</div>"
      ],
      "text/plain": [
       "   danceability  energy       key  loudness  mode  speechiness  acousticness  \\\n",
       "0      0.680455  0.2590  1.000000  0.763897   0.0     0.076797      0.696787   \n",
       "1      0.767322  0.3990  0.181818  0.771967   1.0     0.037691      0.217871   \n",
       "2      0.880041  0.7300  0.181818  0.798018   1.0     0.377996      0.454819   \n",
       "3      0.729059  0.0502  0.363636  0.682811   1.0     0.051307      0.882530   \n",
       "4      0.673216  0.1190  0.545455  0.655228   1.0     0.041394      0.919679   \n",
       "\n",
       "   instrumentalness  liveness   valence     tempo  time_signature  \n",
       "0          0.000060  0.987842  0.310660  0.515800             0.8  \n",
       "1          0.000002  0.108409  0.703553  0.584322             0.8  \n",
       "2          0.000064  0.125633  0.918782  0.437862             0.8  \n",
       "3          0.000041  0.391084  0.531980  0.499098             0.8  \n",
       "4          0.000348  0.105370  0.408122  0.565171             0.8  "
      ]
     },
     "execution_count": 17,
     "metadata": {},
     "output_type": "execute_result"
    }
   ],
   "source": [
    "# display column names after scaling\n",
    "df_scaled = pd.DataFrame(df_scaled, columns=numeric_columns)\n",
    "df_scaled.head()\n"
   ]
  },
  {
   "cell_type": "markdown",
   "metadata": {},
   "source": [
    "###  Apply PCA (Principal Component Analysis) ��"
   ]
  },
  {
   "cell_type": "code",
   "execution_count": 18,
   "metadata": {},
   "outputs": [],
   "source": [
    "from sklearn.decomposition import PCA\n",
    "\n",
    "# Initialize PCA to retain 95% of the variance\n",
    "pca = PCA(n_components=0.95)\n",
    "\n",
    "# Fit PCA on the scaled data\n",
    "principal_components = pca.fit_transform(df_scaled)\n",
    "\n",
    "# Get the explained variance ratio of each component\n",
    "explained_variance = pca.explained_variance_ratio_\n",
    "\n",
    "# Calculate the cumulative variance\n",
    "cumulative_variance = explained_variance.cumsum()"
   ]
  },
  {
   "cell_type": "code",
   "execution_count": 51,
   "metadata": {},
   "outputs": [
    {
     "data": {
      "text/html": [
       "<div>\n",
       "<style scoped>\n",
       "    .dataframe tbody tr th:only-of-type {\n",
       "        vertical-align: middle;\n",
       "    }\n",
       "\n",
       "    .dataframe tbody tr th {\n",
       "        vertical-align: top;\n",
       "    }\n",
       "\n",
       "    .dataframe thead th {\n",
       "        text-align: right;\n",
       "    }\n",
       "</style>\n",
       "<table border=\"1\" class=\"dataframe\">\n",
       "  <thead>\n",
       "    <tr style=\"text-align: right;\">\n",
       "      <th></th>\n",
       "      <th>Principal Component</th>\n",
       "      <th>Explained Variance (%)</th>\n",
       "      <th>Cumulative Variance (%)</th>\n",
       "    </tr>\n",
       "  </thead>\n",
       "  <tbody>\n",
       "    <tr>\n",
       "      <th>0</th>\n",
       "      <td>PC1</td>\n",
       "      <td>28.016566</td>\n",
       "      <td>28.016566</td>\n",
       "    </tr>\n",
       "    <tr>\n",
       "      <th>1</th>\n",
       "      <td>PC2</td>\n",
       "      <td>26.160265</td>\n",
       "      <td>54.176831</td>\n",
       "    </tr>\n",
       "    <tr>\n",
       "      <th>2</th>\n",
       "      <td>PC3</td>\n",
       "      <td>18.439035</td>\n",
       "      <td>72.615866</td>\n",
       "    </tr>\n",
       "    <tr>\n",
       "      <th>3</th>\n",
       "      <td>PC4</td>\n",
       "      <td>11.400870</td>\n",
       "      <td>84.016737</td>\n",
       "    </tr>\n",
       "    <tr>\n",
       "      <th>4</th>\n",
       "      <td>PC5</td>\n",
       "      <td>6.090410</td>\n",
       "      <td>90.107146</td>\n",
       "    </tr>\n",
       "    <tr>\n",
       "      <th>5</th>\n",
       "      <td>PC6</td>\n",
       "      <td>2.763574</td>\n",
       "      <td>92.870720</td>\n",
       "    </tr>\n",
       "    <tr>\n",
       "      <th>6</th>\n",
       "      <td>PC7</td>\n",
       "      <td>2.264710</td>\n",
       "      <td>95.135430</td>\n",
       "    </tr>\n",
       "  </tbody>\n",
       "</table>\n",
       "</div>"
      ],
      "text/plain": [
       "  Principal Component  Explained Variance (%)  Cumulative Variance (%)\n",
       "0                 PC1               28.016566                28.016566\n",
       "1                 PC2               26.160265                54.176831\n",
       "2                 PC3               18.439035                72.615866\n",
       "3                 PC4               11.400870                84.016737\n",
       "4                 PC5                6.090410                90.107146\n",
       "5                 PC6                2.763574                92.870720\n",
       "6                 PC7                2.264710                95.135430"
      ]
     },
     "execution_count": 51,
     "metadata": {},
     "output_type": "execute_result"
    }
   ],
   "source": [
    "# DataFrame with explained variance and cumulative variance\n",
    "variance_df = pd.DataFrame({\n",
    "    'Principal Component': [f'PC{i+1}' for i in range(len(explained_variance))],\n",
    "    'Explained Variance (%)': explained_variance * 100,  \n",
    "    'Cumulative Variance (%)': cumulative_variance * 100  \n",
    "})\n",
    "\n",
    "variance_df"
   ]
  },
  {
   "cell_type": "code",
   "execution_count": 20,
   "metadata": {},
   "outputs": [
    {
     "name": "stdout",
     "output_type": "stream",
     "text": [
      "        PC1       PC2       PC3       PC4       PC5       PC6       PC7\n",
      "0 -0.070595  0.760759 -0.507156  0.436413 -0.255124  0.562891  0.551855\n",
      "1 -0.034449 -0.452991 -0.386533 -0.225611  0.083778 -0.173537  0.039504\n",
      "2 -0.145224 -0.499823 -0.473709 -0.231803  0.276260 -0.009798  0.040364\n",
      "3  0.498328 -0.203194 -0.811766 -0.005154 -0.073651  0.110260  0.221182\n",
      "4  0.536396 -0.151857 -0.744429  0.174772 -0.150344 -0.082544  0.010329\n"
     ]
    }
   ],
   "source": [
    "# DataFrame with the first 7 principal components\n",
    "pca_df_7 = pd.DataFrame(data=principal_components[:, :7], \n",
    "                        columns=[f'PC{i+1}' for i in range(7)])\n",
    "\n",
    "print(pca_df_7.head())"
   ]
  },
  {
   "cell_type": "code",
   "execution_count": 21,
   "metadata": {},
   "outputs": [
    {
     "data": {
      "text/html": [
       "<div>\n",
       "<style scoped>\n",
       "    .dataframe tbody tr th:only-of-type {\n",
       "        vertical-align: middle;\n",
       "    }\n",
       "\n",
       "    .dataframe tbody tr th {\n",
       "        vertical-align: top;\n",
       "    }\n",
       "\n",
       "    .dataframe thead th {\n",
       "        text-align: right;\n",
       "    }\n",
       "</style>\n",
       "<table border=\"1\" class=\"dataframe\">\n",
       "  <thead>\n",
       "    <tr style=\"text-align: right;\">\n",
       "      <th></th>\n",
       "      <th>PC1</th>\n",
       "      <th>PC2</th>\n",
       "      <th>PC3</th>\n",
       "      <th>PC4</th>\n",
       "      <th>PC5</th>\n",
       "      <th>PC6</th>\n",
       "      <th>PC7</th>\n",
       "    </tr>\n",
       "  </thead>\n",
       "  <tbody>\n",
       "    <tr>\n",
       "      <th>0</th>\n",
       "      <td>-0.070595</td>\n",
       "      <td>0.760759</td>\n",
       "      <td>-0.507156</td>\n",
       "      <td>0.436413</td>\n",
       "      <td>-0.255124</td>\n",
       "      <td>0.562891</td>\n",
       "      <td>0.551855</td>\n",
       "    </tr>\n",
       "    <tr>\n",
       "      <th>1</th>\n",
       "      <td>-0.034449</td>\n",
       "      <td>-0.452991</td>\n",
       "      <td>-0.386533</td>\n",
       "      <td>-0.225611</td>\n",
       "      <td>0.083778</td>\n",
       "      <td>-0.173537</td>\n",
       "      <td>0.039504</td>\n",
       "    </tr>\n",
       "    <tr>\n",
       "      <th>2</th>\n",
       "      <td>-0.145224</td>\n",
       "      <td>-0.499823</td>\n",
       "      <td>-0.473709</td>\n",
       "      <td>-0.231803</td>\n",
       "      <td>0.276260</td>\n",
       "      <td>-0.009798</td>\n",
       "      <td>0.040364</td>\n",
       "    </tr>\n",
       "    <tr>\n",
       "      <th>3</th>\n",
       "      <td>0.498328</td>\n",
       "      <td>-0.203194</td>\n",
       "      <td>-0.811766</td>\n",
       "      <td>-0.005154</td>\n",
       "      <td>-0.073651</td>\n",
       "      <td>0.110260</td>\n",
       "      <td>0.221182</td>\n",
       "    </tr>\n",
       "    <tr>\n",
       "      <th>4</th>\n",
       "      <td>0.536396</td>\n",
       "      <td>-0.151857</td>\n",
       "      <td>-0.744429</td>\n",
       "      <td>0.174772</td>\n",
       "      <td>-0.150344</td>\n",
       "      <td>-0.082544</td>\n",
       "      <td>0.010329</td>\n",
       "    </tr>\n",
       "    <tr>\n",
       "      <th>...</th>\n",
       "      <td>...</td>\n",
       "      <td>...</td>\n",
       "      <td>...</td>\n",
       "      <td>...</td>\n",
       "      <td>...</td>\n",
       "      <td>...</td>\n",
       "      <td>...</td>\n",
       "    </tr>\n",
       "    <tr>\n",
       "      <th>5166</th>\n",
       "      <td>1.175199</td>\n",
       "      <td>0.068451</td>\n",
       "      <td>-0.122632</td>\n",
       "      <td>-0.102351</td>\n",
       "      <td>-0.115261</td>\n",
       "      <td>-0.080259</td>\n",
       "      <td>0.001995</td>\n",
       "    </tr>\n",
       "    <tr>\n",
       "      <th>5167</th>\n",
       "      <td>0.970202</td>\n",
       "      <td>0.031947</td>\n",
       "      <td>-0.210758</td>\n",
       "      <td>0.176710</td>\n",
       "      <td>-0.304673</td>\n",
       "      <td>-0.099148</td>\n",
       "      <td>-0.023258</td>\n",
       "    </tr>\n",
       "    <tr>\n",
       "      <th>5168</th>\n",
       "      <td>1.406248</td>\n",
       "      <td>0.276279</td>\n",
       "      <td>0.024944</td>\n",
       "      <td>0.428863</td>\n",
       "      <td>-0.001666</td>\n",
       "      <td>-0.089204</td>\n",
       "      <td>-0.013065</td>\n",
       "    </tr>\n",
       "    <tr>\n",
       "      <th>5169</th>\n",
       "      <td>1.101413</td>\n",
       "      <td>0.048556</td>\n",
       "      <td>-0.220775</td>\n",
       "      <td>-0.000636</td>\n",
       "      <td>-0.272670</td>\n",
       "      <td>-0.073647</td>\n",
       "      <td>0.018299</td>\n",
       "    </tr>\n",
       "    <tr>\n",
       "      <th>5170</th>\n",
       "      <td>0.894925</td>\n",
       "      <td>-0.012709</td>\n",
       "      <td>-0.295100</td>\n",
       "      <td>0.075383</td>\n",
       "      <td>-0.081927</td>\n",
       "      <td>0.006696</td>\n",
       "      <td>0.194285</td>\n",
       "    </tr>\n",
       "  </tbody>\n",
       "</table>\n",
       "<p>5171 rows × 7 columns</p>\n",
       "</div>"
      ],
      "text/plain": [
       "           PC1       PC2       PC3       PC4       PC5       PC6       PC7\n",
       "0    -0.070595  0.760759 -0.507156  0.436413 -0.255124  0.562891  0.551855\n",
       "1    -0.034449 -0.452991 -0.386533 -0.225611  0.083778 -0.173537  0.039504\n",
       "2    -0.145224 -0.499823 -0.473709 -0.231803  0.276260 -0.009798  0.040364\n",
       "3     0.498328 -0.203194 -0.811766 -0.005154 -0.073651  0.110260  0.221182\n",
       "4     0.536396 -0.151857 -0.744429  0.174772 -0.150344 -0.082544  0.010329\n",
       "...        ...       ...       ...       ...       ...       ...       ...\n",
       "5166  1.175199  0.068451 -0.122632 -0.102351 -0.115261 -0.080259  0.001995\n",
       "5167  0.970202  0.031947 -0.210758  0.176710 -0.304673 -0.099148 -0.023258\n",
       "5168  1.406248  0.276279  0.024944  0.428863 -0.001666 -0.089204 -0.013065\n",
       "5169  1.101413  0.048556 -0.220775 -0.000636 -0.272670 -0.073647  0.018299\n",
       "5170  0.894925 -0.012709 -0.295100  0.075383 -0.081927  0.006696  0.194285\n",
       "\n",
       "[5171 rows x 7 columns]"
      ]
     },
     "execution_count": 21,
     "metadata": {},
     "output_type": "execute_result"
    }
   ],
   "source": [
    "pca_df_7"
   ]
  },
  {
   "cell_type": "markdown",
   "metadata": {},
   "source": [
    "### &nbsp; Estimate the number of clusters (k) 🔢"
   ]
  },
  {
   "cell_type": "markdown",
   "metadata": {},
   "source": [
    "#### Elbow method"
   ]
  },
  {
   "cell_type": "code",
   "execution_count": null,
   "metadata": {},
   "outputs": [],
   "source": [
    "import matplotlib.pyplot as plt\n",
    "from sklearn.cluster import KMeans\n",
    "\n",
    "# range for the number of clusters\n",
    "min_clusters = 21\n",
    "max_clusters = 104\n",
    "\n",
    "# Elbow Method\n",
    "inertia = []\n",
    "for i in range(min_clusters, max_clusters + 1):\n",
    "    kmeans = KMeans(n_clusters=i, random_state=123)\n",
    "    kmeans.fit(pca_df_7)  # Use the 7 principal components\n",
    "    inertia.append(kmeans.inertia_)\n",
    "\n"
   ]
  },
  {
   "cell_type": "code",
   "execution_count": 23,
   "metadata": {},
   "outputs": [
    {
     "data": {
      "image/png": "[encoded data removed]",
      "text/plain": [
       "<Figure size 1000x600 with 1 Axes>"
      ]
     },
     "metadata": {},
     "output_type": "display_data"
    }
   ],
   "source": [
    "#Elbow Method graph\n",
    "plt.figure(figsize=(10, 6))\n",
    "plt.plot(range(min_clusters, max_clusters + 1), inertia, marker='o')\n",
    "plt.title('Elbow Method')\n",
    "plt.xlabel('Number of clusters')\n",
    "plt.ylabel('inertia')\n",
    "plt.show()"
   ]
  },
  {
   "cell_type": "code",
   "execution_count": null,
   "metadata": {},
   "outputs": [],
   "source": [
    "import matplotlib.pyplot as plt\n",
    "from sklearn.cluster import KMeans\n",
    "from sklearn.metrics import silhouette_score\n",
    "\n",
    "# range for the number of clusters\n",
    "min_clusters = 21\n",
    "max_clusters = 104\n",
    "\n",
    "# Silhouette Analysis\n",
    "silhouette_scores = []\n",
    "for i in range(min_clusters, max_clusters + 1):\n",
    "    kmeans = KMeans(n_clusters=i, random_state=123)\n",
    "    labels = kmeans.fit_predict(pca_df_7)  # Use the 7 principal components\n",
    "    silhouette_scores.append(silhouette_score(pca_df_7, labels))\n"
   ]
  },
  {
   "cell_type": "code",
   "execution_count": 25,
   "metadata": {},
   "outputs": [
    {
     "data": {
      "image/png": "[encoded data removed]",
      "text/plain": [
       "<Figure size 1000x600 with 1 Axes>"
      ]
     },
     "metadata": {},
     "output_type": "display_data"
    }
   ],
   "source": [
    "# Silhouette Scores\n",
    "plt.figure(figsize=(10, 6))\n",
    "plt.plot(range(min_clusters, max_clusters + 1), silhouette_scores, marker='o')\n",
    "plt.title('Silhouette Analysis')\n",
    "plt.xlabel('Number of clusters')\n",
    "plt.ylabel('Silhouette Score')\n",
    "plt.show()"
   ]
  },
  {
   "cell_type": "code",
   "execution_count": 26,
   "metadata": {},
   "outputs": [],
   "source": [
    "from sklearn.decomposition import PCA\n",
    "\n",
    "pca = PCA(n_components=7)\n",
    "pca_df_7 = pca.fit_transform(df_scaled)\n",
    "\n",
    "# Convert to DataFrame \n",
    "pca_df_7 = pd.DataFrame(pca_df_7, columns=[f'PC{i+1}' for i in range(7)])"
   ]
  },
  {
   "cell_type": "code",
   "execution_count": 27,
   "metadata": {},
   "outputs": [
    {
     "name": "stderr",
     "output_type": "stream",
     "text": [
      "/opt/anaconda3/lib/python3.11/site-packages/sklearn/cluster/_kmeans.py:870: FutureWarning: The default value of `n_init` will change from 10 to 'auto' in 1.4. Set the value of `n_init` explicitly to suppress the warning\n",
      "  warnings.warn(\n"
     ]
    },
    {
     "name": "stdout",
     "output_type": "stream",
     "text": [
      "Cluster_30\n",
      "0     246\n",
      "1     214\n",
      "2     171\n",
      "3     332\n",
      "4     122\n",
      "5     258\n",
      "6     123\n",
      "7      95\n",
      "8      43\n",
      "9     112\n",
      "10    284\n",
      "11    144\n",
      "12    329\n",
      "13    140\n",
      "14    152\n",
      "15    102\n",
      "16    200\n",
      "17    111\n",
      "18     79\n",
      "19    170\n",
      "20    193\n",
      "21    181\n",
      "22    141\n",
      "23    153\n",
      "24    105\n",
      "25    167\n",
      "26    217\n",
      "27    251\n",
      "28    146\n",
      "29    190\n",
      "Name: count, dtype: int64\n"
     ]
    }
   ],
   "source": [
    "from sklearn.cluster import KMeans\n",
    "\n",
    "# KMeans clustering with 30 clusters to the PCA-transformed data with 7 components\n",
    "kmeans_30 = KMeans(n_clusters=30, random_state=123)\n",
    "clusters_30 = kmeans_30.fit_predict(pca_df_7)\n",
    "\n",
    "# cluster labels to your PCA dataframe\n",
    "pca_df_7['Cluster_30'] = clusters_30\n",
    "\n",
    "# distribution of songs in each cluster\n",
    "cluster_distribution_30 = pca_df_7['Cluster_30'].value_counts().sort_index()\n",
    "print(cluster_distribution_30)"
   ]
  },
  {
   "cell_type": "code",
   "execution_count": 28,
   "metadata": {},
   "outputs": [],
   "source": [
    "# assigning the cluster labels to the original DataFrame\n",
    "df_with_clusters = df.copy() "
   ]
  },
  {
   "cell_type": "code",
   "execution_count": 29,
   "metadata": {},
   "outputs": [
    {
     "name": "stdout",
     "output_type": "stream",
     "text": [
      "0\n"
     ]
    }
   ],
   "source": [
    "# Adding the Cluster_30 column back to original DataFrame\n",
    "df_with_clusters['Cluster_30'] = clusters_30\n",
    "\n",
    "# Checkingfor any NaN values in 'Cluster_30'\n",
    "print(df_with_clusters['Cluster_30'].isna().sum())"
   ]
  },
  {
   "cell_type": "code",
   "execution_count": 30,
   "metadata": {},
   "outputs": [],
   "source": [
    "# feature columns for clustering\n",
    "feature_columns = ['danceability', 'energy', 'key', 'loudness', 'mode', 'speechiness', \n",
    "                   'acousticness', 'instrumentalness', 'liveness', 'valence', 'tempo', \n",
    "                   'time_signature']"
   ]
  },
  {
   "cell_type": "code",
   "execution_count": 49,
   "metadata": {},
   "outputs": [],
   "source": [
    "import pandas as pd\n",
    "from sklearn.decomposition import PCA\n",
    "\n",
    "pca = PCA(n_components=7)\n",
    "pca_result = pca.fit_transform(df[feature_columns])\n",
    "\n",
    "# Get the loadings (components_)\n",
    "loadings = pd.DataFrame(pca.components_.T, index=feature_columns, columns=[f'PC{i+1}' for i in range(7)])"
   ]
  },
  {
   "cell_type": "code",
   "execution_count": 50,
   "metadata": {},
   "outputs": [
    {
     "data": {
      "text/html": [
       "<div>\n",
       "<style scoped>\n",
       "    .dataframe tbody tr th:only-of-type {\n",
       "        vertical-align: middle;\n",
       "    }\n",
       "\n",
       "    .dataframe tbody tr th {\n",
       "        vertical-align: top;\n",
       "    }\n",
       "\n",
       "    .dataframe thead th {\n",
       "        text-align: right;\n",
       "    }\n",
       "</style>\n",
       "<table border=\"1\" class=\"dataframe\">\n",
       "  <thead>\n",
       "    <tr style=\"text-align: right;\">\n",
       "      <th></th>\n",
       "      <th>PC1</th>\n",
       "      <th>PC2</th>\n",
       "      <th>PC3</th>\n",
       "      <th>PC4</th>\n",
       "      <th>PC5</th>\n",
       "      <th>PC6</th>\n",
       "      <th>PC7</th>\n",
       "    </tr>\n",
       "  </thead>\n",
       "  <tbody>\n",
       "    <tr>\n",
       "      <th>danceability</th>\n",
       "      <td>0.000032</td>\n",
       "      <td>-0.012971</td>\n",
       "      <td>-0.000835</td>\n",
       "      <td>0.044963</td>\n",
       "      <td>-0.265039</td>\n",
       "      <td>0.257693</td>\n",
       "      <td>0.100114</td>\n",
       "    </tr>\n",
       "    <tr>\n",
       "      <th>energy</th>\n",
       "      <td>-0.002227</td>\n",
       "      <td>-0.035539</td>\n",
       "      <td>-0.000333</td>\n",
       "      <td>-0.012708</td>\n",
       "      <td>0.136420</td>\n",
       "      <td>-0.230251</td>\n",
       "      <td>0.404539</td>\n",
       "    </tr>\n",
       "    <tr>\n",
       "      <th>key</th>\n",
       "      <td>0.000012</td>\n",
       "      <td>-0.026653</td>\n",
       "      <td>0.999410</td>\n",
       "      <td>-0.021464</td>\n",
       "      <td>-0.001200</td>\n",
       "      <td>0.000918</td>\n",
       "      <td>-0.000394</td>\n",
       "    </tr>\n",
       "    <tr>\n",
       "      <th>loudness</th>\n",
       "      <td>-0.049390</td>\n",
       "      <td>-0.996325</td>\n",
       "      <td>-0.026648</td>\n",
       "      <td>-0.002364</td>\n",
       "      <td>0.021165</td>\n",
       "      <td>0.004783</td>\n",
       "      <td>-0.058170</td>\n",
       "    </tr>\n",
       "    <tr>\n",
       "      <th>mode</th>\n",
       "      <td>-0.000068</td>\n",
       "      <td>0.002601</td>\n",
       "      <td>-0.021456</td>\n",
       "      <td>-0.998192</td>\n",
       "      <td>-0.029798</td>\n",
       "      <td>-0.010708</td>\n",
       "      <td>-0.003567</td>\n",
       "    </tr>\n",
       "    <tr>\n",
       "      <th>speechiness</th>\n",
       "      <td>-0.000158</td>\n",
       "      <td>-0.002614</td>\n",
       "      <td>0.000402</td>\n",
       "      <td>0.004747</td>\n",
       "      <td>0.009714</td>\n",
       "      <td>-0.020087</td>\n",
       "      <td>0.033681</td>\n",
       "    </tr>\n",
       "    <tr>\n",
       "      <th>acousticness</th>\n",
       "      <td>0.002435</td>\n",
       "      <td>0.038845</td>\n",
       "      <td>0.000313</td>\n",
       "      <td>-0.003355</td>\n",
       "      <td>-0.138078</td>\n",
       "      <td>0.287975</td>\n",
       "      <td>-0.810326</td>\n",
       "    </tr>\n",
       "    <tr>\n",
       "      <th>instrumentalness</th>\n",
       "      <td>0.000992</td>\n",
       "      <td>0.028075</td>\n",
       "      <td>0.000325</td>\n",
       "      <td>0.012303</td>\n",
       "      <td>0.423323</td>\n",
       "      <td>-0.565651</td>\n",
       "      <td>-0.283741</td>\n",
       "    </tr>\n",
       "    <tr>\n",
       "      <th>liveness</th>\n",
       "      <td>-0.000203</td>\n",
       "      <td>-0.003183</td>\n",
       "      <td>0.000847</td>\n",
       "      <td>0.000026</td>\n",
       "      <td>0.012411</td>\n",
       "      <td>-0.016492</td>\n",
       "      <td>0.014262</td>\n",
       "    </tr>\n",
       "    <tr>\n",
       "      <th>valence</th>\n",
       "      <td>-0.001022</td>\n",
       "      <td>-0.014440</td>\n",
       "      <td>-0.002518</td>\n",
       "      <td>0.000145</td>\n",
       "      <td>-0.323423</td>\n",
       "      <td>0.312050</td>\n",
       "      <td>0.276519</td>\n",
       "    </tr>\n",
       "    <tr>\n",
       "      <th>tempo</th>\n",
       "      <td>-0.998773</td>\n",
       "      <td>0.049492</td>\n",
       "      <td>0.001335</td>\n",
       "      <td>0.000207</td>\n",
       "      <td>-0.000641</td>\n",
       "      <td>0.000355</td>\n",
       "      <td>-0.000535</td>\n",
       "    </tr>\n",
       "    <tr>\n",
       "      <th>time_signature</th>\n",
       "      <td>-0.000391</td>\n",
       "      <td>-0.014698</td>\n",
       "      <td>-0.000033</td>\n",
       "      <td>0.027911</td>\n",
       "      <td>-0.778902</td>\n",
       "      <td>-0.616035</td>\n",
       "      <td>-0.089389</td>\n",
       "    </tr>\n",
       "  </tbody>\n",
       "</table>\n",
       "</div>"
      ],
      "text/plain": [
       "                       PC1       PC2       PC3       PC4       PC5       PC6  \\\n",
       "danceability      0.000032 -0.012971 -0.000835  0.044963 -0.265039  0.257693   \n",
       "energy           -0.002227 -0.035539 -0.000333 -0.012708  0.136420 -0.230251   \n",
       "key               0.000012 -0.026653  0.999410 -0.021464 -0.001200  0.000918   \n",
       "loudness         -0.049390 -0.996325 -0.026648 -0.002364  0.021165  0.004783   \n",
       "mode             -0.000068  0.002601 -0.021456 -0.998192 -0.029798 -0.010708   \n",
       "speechiness      -0.000158 -0.002614  0.000402  0.004747  0.009714 -0.020087   \n",
       "acousticness      0.002435  0.038845  0.000313 -0.003355 -0.138078  0.287975   \n",
       "instrumentalness  0.000992  0.028075  0.000325  0.012303  0.423323 -0.565651   \n",
       "liveness         -0.000203 -0.003183  0.000847  0.000026  0.012411 -0.016492   \n",
       "valence          -0.001022 -0.014440 -0.002518  0.000145 -0.323423  0.312050   \n",
       "tempo            -0.998773  0.049492  0.001335  0.000207 -0.000641  0.000355   \n",
       "time_signature   -0.000391 -0.014698 -0.000033  0.027911 -0.778902 -0.616035   \n",
       "\n",
       "                       PC7  \n",
       "danceability      0.100114  \n",
       "energy            0.404539  \n",
       "key              -0.000394  \n",
       "loudness         -0.058170  \n",
       "mode             -0.003567  \n",
       "speechiness       0.033681  \n",
       "acousticness     -0.810326  \n",
       "instrumentalness -0.283741  \n",
       "liveness          0.014262  \n",
       "valence           0.276519  \n",
       "tempo            -0.000535  \n",
       "time_signature   -0.089389  "
      ]
     },
     "execution_count": 50,
     "metadata": {},
     "output_type": "execute_result"
    }
   ],
   "source": [
    "loadings"
   ]
  },
  {
   "cell_type": "code",
   "execution_count": 31,
   "metadata": {},
   "outputs": [],
   "source": [
    "# Calculating the mean of each feature for each cluster\n",
    "cluster_means = df_with_clusters.groupby('Cluster_30')[feature_columns].mean()"
   ]
  },
  {
   "cell_type": "code",
   "execution_count": 32,
   "metadata": {},
   "outputs": [
    {
     "data": {
      "text/html": [
       "<div>\n",
       "<style scoped>\n",
       "    .dataframe tbody tr th:only-of-type {\n",
       "        vertical-align: middle;\n",
       "    }\n",
       "\n",
       "    .dataframe tbody tr th {\n",
       "        vertical-align: top;\n",
       "    }\n",
       "\n",
       "    .dataframe thead th {\n",
       "        text-align: right;\n",
       "    }\n",
       "</style>\n",
       "<table border=\"1\" class=\"dataframe\">\n",
       "  <thead>\n",
       "    <tr style=\"text-align: right;\">\n",
       "      <th></th>\n",
       "      <th>danceability</th>\n",
       "      <th>energy</th>\n",
       "      <th>key</th>\n",
       "      <th>loudness</th>\n",
       "      <th>mode</th>\n",
       "      <th>speechiness</th>\n",
       "      <th>acousticness</th>\n",
       "      <th>instrumentalness</th>\n",
       "      <th>liveness</th>\n",
       "      <th>valence</th>\n",
       "      <th>tempo</th>\n",
       "      <th>time_signature</th>\n",
       "    </tr>\n",
       "    <tr>\n",
       "      <th>Cluster_30</th>\n",
       "      <th></th>\n",
       "      <th></th>\n",
       "      <th></th>\n",
       "      <th></th>\n",
       "      <th></th>\n",
       "      <th></th>\n",
       "      <th></th>\n",
       "      <th></th>\n",
       "      <th></th>\n",
       "      <th></th>\n",
       "      <th></th>\n",
       "      <th></th>\n",
       "    </tr>\n",
       "  </thead>\n",
       "  <tbody>\n",
       "    <tr>\n",
       "      <th>0</th>\n",
       "      <td>0.253787</td>\n",
       "      <td>0.899256</td>\n",
       "      <td>1.471545</td>\n",
       "      <td>-8.651659</td>\n",
       "      <td>1.0</td>\n",
       "      <td>0.103963</td>\n",
       "      <td>0.005544</td>\n",
       "      <td>0.818789</td>\n",
       "      <td>0.197743</td>\n",
       "      <td>0.215050</td>\n",
       "      <td>122.091850</td>\n",
       "      <td>3.845528</td>\n",
       "    </tr>\n",
       "    <tr>\n",
       "      <th>1</th>\n",
       "      <td>0.730327</td>\n",
       "      <td>0.746500</td>\n",
       "      <td>5.303738</td>\n",
       "      <td>-5.885668</td>\n",
       "      <td>0.0</td>\n",
       "      <td>0.109376</td>\n",
       "      <td>0.130190</td>\n",
       "      <td>0.010539</td>\n",
       "      <td>0.189193</td>\n",
       "      <td>0.719243</td>\n",
       "      <td>116.815463</td>\n",
       "      <td>3.981308</td>\n",
       "    </tr>\n",
       "    <tr>\n",
       "      <th>2</th>\n",
       "      <td>0.300918</td>\n",
       "      <td>0.121443</td>\n",
       "      <td>1.637427</td>\n",
       "      <td>-22.579994</td>\n",
       "      <td>1.0</td>\n",
       "      <td>0.043691</td>\n",
       "      <td>0.938187</td>\n",
       "      <td>0.856526</td>\n",
       "      <td>0.133450</td>\n",
       "      <td>0.150272</td>\n",
       "      <td>102.077456</td>\n",
       "      <td>3.637427</td>\n",
       "    </tr>\n",
       "    <tr>\n",
       "      <th>3</th>\n",
       "      <td>0.708931</td>\n",
       "      <td>0.734114</td>\n",
       "      <td>1.421687</td>\n",
       "      <td>-7.065575</td>\n",
       "      <td>1.0</td>\n",
       "      <td>0.086170</td>\n",
       "      <td>0.169795</td>\n",
       "      <td>0.013339</td>\n",
       "      <td>0.161866</td>\n",
       "      <td>0.802753</td>\n",
       "      <td>123.015895</td>\n",
       "      <td>3.987952</td>\n",
       "    </tr>\n",
       "    <tr>\n",
       "      <th>4</th>\n",
       "      <td>0.297532</td>\n",
       "      <td>0.894205</td>\n",
       "      <td>9.737705</td>\n",
       "      <td>-8.389443</td>\n",
       "      <td>0.0</td>\n",
       "      <td>0.103482</td>\n",
       "      <td>0.014547</td>\n",
       "      <td>0.785443</td>\n",
       "      <td>0.169143</td>\n",
       "      <td>0.233664</td>\n",
       "      <td>124.016336</td>\n",
       "      <td>3.844262</td>\n",
       "    </tr>\n",
       "    <tr>\n",
       "      <th>5</th>\n",
       "      <td>0.258638</td>\n",
       "      <td>0.911004</td>\n",
       "      <td>7.810078</td>\n",
       "      <td>-8.052120</td>\n",
       "      <td>1.0</td>\n",
       "      <td>0.105425</td>\n",
       "      <td>0.008794</td>\n",
       "      <td>0.796605</td>\n",
       "      <td>0.204945</td>\n",
       "      <td>0.219726</td>\n",
       "      <td>118.943729</td>\n",
       "      <td>3.922481</td>\n",
       "    </tr>\n",
       "    <tr>\n",
       "      <th>6</th>\n",
       "      <td>0.542797</td>\n",
       "      <td>0.498707</td>\n",
       "      <td>2.048780</td>\n",
       "      <td>-8.927715</td>\n",
       "      <td>1.0</td>\n",
       "      <td>0.048543</td>\n",
       "      <td>0.460716</td>\n",
       "      <td>0.029703</td>\n",
       "      <td>0.154138</td>\n",
       "      <td>0.390902</td>\n",
       "      <td>116.980911</td>\n",
       "      <td>3.934959</td>\n",
       "    </tr>\n",
       "    <tr>\n",
       "      <th>7</th>\n",
       "      <td>0.578274</td>\n",
       "      <td>0.824958</td>\n",
       "      <td>7.652632</td>\n",
       "      <td>-5.680305</td>\n",
       "      <td>1.0</td>\n",
       "      <td>0.103567</td>\n",
       "      <td>0.122572</td>\n",
       "      <td>0.014650</td>\n",
       "      <td>0.559411</td>\n",
       "      <td>0.525809</td>\n",
       "      <td>125.074653</td>\n",
       "      <td>3.989474</td>\n",
       "    </tr>\n",
       "    <tr>\n",
       "      <th>8</th>\n",
       "      <td>0.678442</td>\n",
       "      <td>0.680814</td>\n",
       "      <td>7.000000</td>\n",
       "      <td>-8.332140</td>\n",
       "      <td>0.0</td>\n",
       "      <td>0.072005</td>\n",
       "      <td>0.218420</td>\n",
       "      <td>0.737605</td>\n",
       "      <td>0.183921</td>\n",
       "      <td>0.686605</td>\n",
       "      <td>126.059953</td>\n",
       "      <td>4.000000</td>\n",
       "    </tr>\n",
       "    <tr>\n",
       "      <th>9</th>\n",
       "      <td>0.339568</td>\n",
       "      <td>0.141448</td>\n",
       "      <td>2.732143</td>\n",
       "      <td>-21.714580</td>\n",
       "      <td>0.0</td>\n",
       "      <td>0.044858</td>\n",
       "      <td>0.922116</td>\n",
       "      <td>0.872946</td>\n",
       "      <td>0.135444</td>\n",
       "      <td>0.167252</td>\n",
       "      <td>99.828330</td>\n",
       "      <td>3.687500</td>\n",
       "    </tr>\n",
       "    <tr>\n",
       "      <th>10</th>\n",
       "      <td>0.618021</td>\n",
       "      <td>0.759658</td>\n",
       "      <td>1.313380</td>\n",
       "      <td>-5.811296</td>\n",
       "      <td>1.0</td>\n",
       "      <td>0.089509</td>\n",
       "      <td>0.062751</td>\n",
       "      <td>0.016416</td>\n",
       "      <td>0.183205</td>\n",
       "      <td>0.464215</td>\n",
       "      <td>120.659979</td>\n",
       "      <td>4.003521</td>\n",
       "    </tr>\n",
       "    <tr>\n",
       "      <th>11</th>\n",
       "      <td>0.373554</td>\n",
       "      <td>0.921681</td>\n",
       "      <td>8.472222</td>\n",
       "      <td>-5.743278</td>\n",
       "      <td>0.0</td>\n",
       "      <td>0.121842</td>\n",
       "      <td>0.016119</td>\n",
       "      <td>0.079980</td>\n",
       "      <td>0.268868</td>\n",
       "      <td>0.216096</td>\n",
       "      <td>124.204542</td>\n",
       "      <td>3.937500</td>\n",
       "    </tr>\n",
       "    <tr>\n",
       "      <th>12</th>\n",
       "      <td>0.712881</td>\n",
       "      <td>0.752729</td>\n",
       "      <td>7.489362</td>\n",
       "      <td>-6.312444</td>\n",
       "      <td>1.0</td>\n",
       "      <td>0.086005</td>\n",
       "      <td>0.113716</td>\n",
       "      <td>0.012094</td>\n",
       "      <td>0.150087</td>\n",
       "      <td>0.785818</td>\n",
       "      <td>120.739368</td>\n",
       "      <td>4.006079</td>\n",
       "    </tr>\n",
       "    <tr>\n",
       "      <th>13</th>\n",
       "      <td>0.627007</td>\n",
       "      <td>0.473960</td>\n",
       "      <td>3.342857</td>\n",
       "      <td>-10.180079</td>\n",
       "      <td>0.0</td>\n",
       "      <td>0.083179</td>\n",
       "      <td>0.644764</td>\n",
       "      <td>0.033288</td>\n",
       "      <td>0.191063</td>\n",
       "      <td>0.592343</td>\n",
       "      <td>115.657236</td>\n",
       "      <td>3.921429</td>\n",
       "    </tr>\n",
       "    <tr>\n",
       "      <th>14</th>\n",
       "      <td>0.448171</td>\n",
       "      <td>0.275351</td>\n",
       "      <td>8.427632</td>\n",
       "      <td>-13.626704</td>\n",
       "      <td>1.0</td>\n",
       "      <td>0.043428</td>\n",
       "      <td>0.804908</td>\n",
       "      <td>0.045072</td>\n",
       "      <td>0.200405</td>\n",
       "      <td>0.309696</td>\n",
       "      <td>108.443605</td>\n",
       "      <td>3.796053</td>\n",
       "    </tr>\n",
       "    <tr>\n",
       "      <th>15</th>\n",
       "      <td>0.489155</td>\n",
       "      <td>0.232445</td>\n",
       "      <td>6.676471</td>\n",
       "      <td>-14.377735</td>\n",
       "      <td>0.0</td>\n",
       "      <td>0.049368</td>\n",
       "      <td>0.846608</td>\n",
       "      <td>0.032558</td>\n",
       "      <td>0.181810</td>\n",
       "      <td>0.327452</td>\n",
       "      <td>113.549029</td>\n",
       "      <td>3.862745</td>\n",
       "    </tr>\n",
       "    <tr>\n",
       "      <th>16</th>\n",
       "      <td>0.748545</td>\n",
       "      <td>0.730040</td>\n",
       "      <td>9.845000</td>\n",
       "      <td>-6.232460</td>\n",
       "      <td>0.0</td>\n",
       "      <td>0.107017</td>\n",
       "      <td>0.173577</td>\n",
       "      <td>0.009008</td>\n",
       "      <td>0.194815</td>\n",
       "      <td>0.758140</td>\n",
       "      <td>118.630025</td>\n",
       "      <td>4.000000</td>\n",
       "    </tr>\n",
       "    <tr>\n",
       "      <th>17</th>\n",
       "      <td>0.313153</td>\n",
       "      <td>0.123058</td>\n",
       "      <td>8.765766</td>\n",
       "      <td>-22.499919</td>\n",
       "      <td>0.0</td>\n",
       "      <td>0.044482</td>\n",
       "      <td>0.931514</td>\n",
       "      <td>0.876748</td>\n",
       "      <td>0.127177</td>\n",
       "      <td>0.157011</td>\n",
       "      <td>105.134820</td>\n",
       "      <td>3.756757</td>\n",
       "    </tr>\n",
       "    <tr>\n",
       "      <th>18</th>\n",
       "      <td>0.573380</td>\n",
       "      <td>0.810861</td>\n",
       "      <td>3.835443</td>\n",
       "      <td>-7.110443</td>\n",
       "      <td>1.0</td>\n",
       "      <td>0.062601</td>\n",
       "      <td>0.084353</td>\n",
       "      <td>0.715544</td>\n",
       "      <td>0.213200</td>\n",
       "      <td>0.627253</td>\n",
       "      <td>134.593519</td>\n",
       "      <td>3.949367</td>\n",
       "    </tr>\n",
       "    <tr>\n",
       "      <th>19</th>\n",
       "      <td>0.629494</td>\n",
       "      <td>0.709523</td>\n",
       "      <td>9.347059</td>\n",
       "      <td>-6.189212</td>\n",
       "      <td>0.0</td>\n",
       "      <td>0.078665</td>\n",
       "      <td>0.098798</td>\n",
       "      <td>0.021435</td>\n",
       "      <td>0.154228</td>\n",
       "      <td>0.410646</td>\n",
       "      <td>122.444100</td>\n",
       "      <td>3.958824</td>\n",
       "    </tr>\n",
       "    <tr>\n",
       "      <th>20</th>\n",
       "      <td>0.329203</td>\n",
       "      <td>0.139927</td>\n",
       "      <td>7.590674</td>\n",
       "      <td>-21.453005</td>\n",
       "      <td>1.0</td>\n",
       "      <td>0.046442</td>\n",
       "      <td>0.941964</td>\n",
       "      <td>0.866456</td>\n",
       "      <td>0.130431</td>\n",
       "      <td>0.174992</td>\n",
       "      <td>109.718788</td>\n",
       "      <td>3.652850</td>\n",
       "    </tr>\n",
       "    <tr>\n",
       "      <th>21</th>\n",
       "      <td>0.310345</td>\n",
       "      <td>0.905867</td>\n",
       "      <td>1.928177</td>\n",
       "      <td>-6.807691</td>\n",
       "      <td>1.0</td>\n",
       "      <td>0.117831</td>\n",
       "      <td>0.008121</td>\n",
       "      <td>0.110335</td>\n",
       "      <td>0.187387</td>\n",
       "      <td>0.197140</td>\n",
       "      <td>122.055956</td>\n",
       "      <td>3.817680</td>\n",
       "    </tr>\n",
       "    <tr>\n",
       "      <th>22</th>\n",
       "      <td>0.610787</td>\n",
       "      <td>0.478255</td>\n",
       "      <td>1.638298</td>\n",
       "      <td>-10.672035</td>\n",
       "      <td>1.0</td>\n",
       "      <td>0.061059</td>\n",
       "      <td>0.724362</td>\n",
       "      <td>0.064907</td>\n",
       "      <td>0.222343</td>\n",
       "      <td>0.726191</td>\n",
       "      <td>116.028709</td>\n",
       "      <td>3.971631</td>\n",
       "    </tr>\n",
       "    <tr>\n",
       "      <th>23</th>\n",
       "      <td>0.299982</td>\n",
       "      <td>0.895144</td>\n",
       "      <td>3.450980</td>\n",
       "      <td>-8.069941</td>\n",
       "      <td>0.0</td>\n",
       "      <td>0.094722</td>\n",
       "      <td>0.012717</td>\n",
       "      <td>0.797954</td>\n",
       "      <td>0.221339</td>\n",
       "      <td>0.228746</td>\n",
       "      <td>121.355013</td>\n",
       "      <td>3.823529</td>\n",
       "    </tr>\n",
       "    <tr>\n",
       "      <th>24</th>\n",
       "      <td>0.383762</td>\n",
       "      <td>0.180388</td>\n",
       "      <td>2.352381</td>\n",
       "      <td>-16.112390</td>\n",
       "      <td>1.0</td>\n",
       "      <td>0.046187</td>\n",
       "      <td>0.903324</td>\n",
       "      <td>0.042427</td>\n",
       "      <td>0.151631</td>\n",
       "      <td>0.237496</td>\n",
       "      <td>111.612124</td>\n",
       "      <td>3.647619</td>\n",
       "    </tr>\n",
       "    <tr>\n",
       "      <th>25</th>\n",
       "      <td>0.494653</td>\n",
       "      <td>0.802814</td>\n",
       "      <td>3.059880</td>\n",
       "      <td>-5.908970</td>\n",
       "      <td>0.0</td>\n",
       "      <td>0.082885</td>\n",
       "      <td>0.064691</td>\n",
       "      <td>0.030649</td>\n",
       "      <td>0.216566</td>\n",
       "      <td>0.295321</td>\n",
       "      <td>126.383605</td>\n",
       "      <td>3.928144</td>\n",
       "    </tr>\n",
       "    <tr>\n",
       "      <th>26</th>\n",
       "      <td>0.320313</td>\n",
       "      <td>0.903346</td>\n",
       "      <td>8.345622</td>\n",
       "      <td>-6.658618</td>\n",
       "      <td>1.0</td>\n",
       "      <td>0.115817</td>\n",
       "      <td>0.016551</td>\n",
       "      <td>0.102741</td>\n",
       "      <td>0.194357</td>\n",
       "      <td>0.219588</td>\n",
       "      <td>126.364935</td>\n",
       "      <td>3.889401</td>\n",
       "    </tr>\n",
       "    <tr>\n",
       "      <th>27</th>\n",
       "      <td>0.626470</td>\n",
       "      <td>0.679207</td>\n",
       "      <td>8.282869</td>\n",
       "      <td>-6.579649</td>\n",
       "      <td>1.0</td>\n",
       "      <td>0.074510</td>\n",
       "      <td>0.126956</td>\n",
       "      <td>0.015274</td>\n",
       "      <td>0.145872</td>\n",
       "      <td>0.422117</td>\n",
       "      <td>114.376781</td>\n",
       "      <td>3.972112</td>\n",
       "    </tr>\n",
       "    <tr>\n",
       "      <th>28</th>\n",
       "      <td>0.697548</td>\n",
       "      <td>0.751432</td>\n",
       "      <td>0.931507</td>\n",
       "      <td>-5.721445</td>\n",
       "      <td>0.0</td>\n",
       "      <td>0.086586</td>\n",
       "      <td>0.122140</td>\n",
       "      <td>0.010169</td>\n",
       "      <td>0.167703</td>\n",
       "      <td>0.691788</td>\n",
       "      <td>122.352459</td>\n",
       "      <td>3.986301</td>\n",
       "    </tr>\n",
       "    <tr>\n",
       "      <th>29</th>\n",
       "      <td>0.619447</td>\n",
       "      <td>0.561784</td>\n",
       "      <td>7.942105</td>\n",
       "      <td>-9.281121</td>\n",
       "      <td>1.0</td>\n",
       "      <td>0.070877</td>\n",
       "      <td>0.582853</td>\n",
       "      <td>0.030476</td>\n",
       "      <td>0.176437</td>\n",
       "      <td>0.775432</td>\n",
       "      <td>124.297747</td>\n",
       "      <td>3.973684</td>\n",
       "    </tr>\n",
       "  </tbody>\n",
       "</table>\n",
       "</div>"
      ],
      "text/plain": [
       "            danceability    energy       key   loudness  mode  speechiness  \\\n",
       "Cluster_30                                                                   \n",
       "0               0.253787  0.899256  1.471545  -8.651659   1.0     0.103963   \n",
       "1               0.730327  0.746500  5.303738  -5.885668   0.0     0.109376   \n",
       "2               0.300918  0.121443  1.637427 -22.579994   1.0     0.043691   \n",
       "3               0.708931  0.734114  1.421687  -7.065575   1.0     0.086170   \n",
       "4               0.297532  0.894205  9.737705  -8.389443   0.0     0.103482   \n",
       "5               0.258638  0.911004  7.810078  -8.052120   1.0     0.105425   \n",
       "6               0.542797  0.498707  2.048780  -8.927715   1.0     0.048543   \n",
       "7               0.578274  0.824958  7.652632  -5.680305   1.0     0.103567   \n",
       "8               0.678442  0.680814  7.000000  -8.332140   0.0     0.072005   \n",
       "9               0.339568  0.141448  2.732143 -21.714580   0.0     0.044858   \n",
       "10              0.618021  0.759658  1.313380  -5.811296   1.0     0.089509   \n",
       "11              0.373554  0.921681  8.472222  -5.743278   0.0     0.121842   \n",
       "12              0.712881  0.752729  7.489362  -6.312444   1.0     0.086005   \n",
       "13              0.627007  0.473960  3.342857 -10.180079   0.0     0.083179   \n",
       "14              0.448171  0.275351  8.427632 -13.626704   1.0     0.043428   \n",
       "15              0.489155  0.232445  6.676471 -14.377735   0.0     0.049368   \n",
       "16              0.748545  0.730040  9.845000  -6.232460   0.0     0.107017   \n",
       "17              0.313153  0.123058  8.765766 -22.499919   0.0     0.044482   \n",
       "18              0.573380  0.810861  3.835443  -7.110443   1.0     0.062601   \n",
       "19              0.629494  0.709523  9.347059  -6.189212   0.0     0.078665   \n",
       "20              0.329203  0.139927  7.590674 -21.453005   1.0     0.046442   \n",
       "21              0.310345  0.905867  1.928177  -6.807691   1.0     0.117831   \n",
       "22              0.610787  0.478255  1.638298 -10.672035   1.0     0.061059   \n",
       "23              0.299982  0.895144  3.450980  -8.069941   0.0     0.094722   \n",
       "24              0.383762  0.180388  2.352381 -16.112390   1.0     0.046187   \n",
       "25              0.494653  0.802814  3.059880  -5.908970   0.0     0.082885   \n",
       "26              0.320313  0.903346  8.345622  -6.658618   1.0     0.115817   \n",
       "27              0.626470  0.679207  8.282869  -6.579649   1.0     0.074510   \n",
       "28              0.697548  0.751432  0.931507  -5.721445   0.0     0.086586   \n",
       "29              0.619447  0.561784  7.942105  -9.281121   1.0     0.070877   \n",
       "\n",
       "            acousticness  instrumentalness  liveness   valence       tempo  \\\n",
       "Cluster_30                                                                   \n",
       "0               0.005544          0.818789  0.197743  0.215050  122.091850   \n",
       "1               0.130190          0.010539  0.189193  0.719243  116.815463   \n",
       "2               0.938187          0.856526  0.133450  0.150272  102.077456   \n",
       "3               0.169795          0.013339  0.161866  0.802753  123.015895   \n",
       "4               0.014547          0.785443  0.169143  0.233664  124.016336   \n",
       "5               0.008794          0.796605  0.204945  0.219726  118.943729   \n",
       "6               0.460716          0.029703  0.154138  0.390902  116.980911   \n",
       "7               0.122572          0.014650  0.559411  0.525809  125.074653   \n",
       "8               0.218420          0.737605  0.183921  0.686605  126.059953   \n",
       "9               0.922116          0.872946  0.135444  0.167252   99.828330   \n",
       "10              0.062751          0.016416  0.183205  0.464215  120.659979   \n",
       "11              0.016119          0.079980  0.268868  0.216096  124.204542   \n",
       "12              0.113716          0.012094  0.150087  0.785818  120.739368   \n",
       "13              0.644764          0.033288  0.191063  0.592343  115.657236   \n",
       "14              0.804908          0.045072  0.200405  0.309696  108.443605   \n",
       "15              0.846608          0.032558  0.181810  0.327452  113.549029   \n",
       "16              0.173577          0.009008  0.194815  0.758140  118.630025   \n",
       "17              0.931514          0.876748  0.127177  0.157011  105.134820   \n",
       "18              0.084353          0.715544  0.213200  0.627253  134.593519   \n",
       "19              0.098798          0.021435  0.154228  0.410646  122.444100   \n",
       "20              0.941964          0.866456  0.130431  0.174992  109.718788   \n",
       "21              0.008121          0.110335  0.187387  0.197140  122.055956   \n",
       "22              0.724362          0.064907  0.222343  0.726191  116.028709   \n",
       "23              0.012717          0.797954  0.221339  0.228746  121.355013   \n",
       "24              0.903324          0.042427  0.151631  0.237496  111.612124   \n",
       "25              0.064691          0.030649  0.216566  0.295321  126.383605   \n",
       "26              0.016551          0.102741  0.194357  0.219588  126.364935   \n",
       "27              0.126956          0.015274  0.145872  0.422117  114.376781   \n",
       "28              0.122140          0.010169  0.167703  0.691788  122.352459   \n",
       "29              0.582853          0.030476  0.176437  0.775432  124.297747   \n",
       "\n",
       "            time_signature  \n",
       "Cluster_30                  \n",
       "0                 3.845528  \n",
       "1                 3.981308  \n",
       "2                 3.637427  \n",
       "3                 3.987952  \n",
       "4                 3.844262  \n",
       "5                 3.922481  \n",
       "6                 3.934959  \n",
       "7                 3.989474  \n",
       "8                 4.000000  \n",
       "9                 3.687500  \n",
       "10                4.003521  \n",
       "11                3.937500  \n",
       "12                4.006079  \n",
       "13                3.921429  \n",
       "14                3.796053  \n",
       "15                3.862745  \n",
       "16                4.000000  \n",
       "17                3.756757  \n",
       "18                3.949367  \n",
       "19                3.958824  \n",
       "20                3.652850  \n",
       "21                3.817680  \n",
       "22                3.971631  \n",
       "23                3.823529  \n",
       "24                3.647619  \n",
       "25                3.928144  \n",
       "26                3.889401  \n",
       "27                3.972112  \n",
       "28                3.986301  \n",
       "29                3.973684  "
      ]
     },
     "execution_count": 32,
     "metadata": {},
     "output_type": "execute_result"
    }
   ],
   "source": [
    "cluster_means"
   ]
  },
  {
   "cell_type": "code",
   "execution_count": null,
   "metadata": {},
   "outputs": [],
   "source": [
    "df_with_clusters"
   ]
  },
  {
   "cell_type": "code",
   "execution_count": 35,
   "metadata": {},
   "outputs": [],
   "source": [
    "import numpy as np\n",
    "\n",
    "# function to calculate the Euclidean distance\n",
    "def euclidean_distance(point1, point2):\n",
    "    return np.sqrt(np.sum((point1 - point2) ** 2))\n",
    "\n",
    "# Calculatng the distance from each song to the centroid\n",
    "distances = []\n",
    "for index, row in df_with_clusters.iterrows():\n",
    "    cluster_label = row['Cluster_30']  # Use the Cluster_30 column as the label\n",
    "    centroid = cluster_means.loc[cluster_label]\n",
    "    song_features = row[feature_columns]\n",
    "    \n",
    "    distance = euclidean_distance(song_features, centroid)\n",
    "    distances.append(distance)\n",
    "\n",
    "# Adding the distances value as a new column in the dataframe\n",
    "df_with_clusters['distance_to_centroid'] = distances"
   ]
  },
  {
   "cell_type": "code",
   "execution_count": 36,
   "metadata": {},
   "outputs": [
    {
     "data": {
      "text/html": [
       "<div>\n",
       "<style scoped>\n",
       "    .dataframe tbody tr th:only-of-type {\n",
       "        vertical-align: middle;\n",
       "    }\n",
       "\n",
       "    .dataframe tbody tr th {\n",
       "        vertical-align: top;\n",
       "    }\n",
       "\n",
       "    .dataframe thead th {\n",
       "        text-align: right;\n",
       "    }\n",
       "</style>\n",
       "<table border=\"1\" class=\"dataframe\">\n",
       "  <thead>\n",
       "    <tr style=\"text-align: right;\">\n",
       "      <th></th>\n",
       "      <th>name</th>\n",
       "      <th>artist</th>\n",
       "      <th>danceability</th>\n",
       "      <th>energy</th>\n",
       "      <th>key</th>\n",
       "      <th>loudness</th>\n",
       "      <th>mode</th>\n",
       "      <th>speechiness</th>\n",
       "      <th>acousticness</th>\n",
       "      <th>instrumentalness</th>\n",
       "      <th>liveness</th>\n",
       "      <th>valence</th>\n",
       "      <th>tempo</th>\n",
       "      <th>time_signature</th>\n",
       "      <th>id</th>\n",
       "      <th>Cluster_30</th>\n",
       "      <th>distance_to_centroid</th>\n",
       "    </tr>\n",
       "  </thead>\n",
       "  <tbody>\n",
       "    <tr>\n",
       "      <th>0</th>\n",
       "      <td>Se Eu Quiser Falar Com Deus                   ...</td>\n",
       "      <td>Gilberto Gil</td>\n",
       "      <td>0.6580</td>\n",
       "      <td>0.25900</td>\n",
       "      <td>11</td>\n",
       "      <td>-13.141</td>\n",
       "      <td>0</td>\n",
       "      <td>0.0705</td>\n",
       "      <td>0.694</td>\n",
       "      <td>0.000059</td>\n",
       "      <td>0.9750</td>\n",
       "      <td>0.3060</td>\n",
       "      <td>110.376</td>\n",
       "      <td>4</td>\n",
       "      <td>1n7JnwviZ7zf0LR1tcGFq7</td>\n",
       "      <td>15</td>\n",
       "      <td>5.567135</td>\n",
       "    </tr>\n",
       "    <tr>\n",
       "      <th>1</th>\n",
       "      <td>Saudade De Bahia                              ...</td>\n",
       "      <td>Antônio Carlos Jobim</td>\n",
       "      <td>0.7420</td>\n",
       "      <td>0.39900</td>\n",
       "      <td>2</td>\n",
       "      <td>-12.646</td>\n",
       "      <td>1</td>\n",
       "      <td>0.0346</td>\n",
       "      <td>0.217</td>\n",
       "      <td>0.000002</td>\n",
       "      <td>0.1070</td>\n",
       "      <td>0.6930</td>\n",
       "      <td>125.039</td>\n",
       "      <td>4</td>\n",
       "      <td>5QGM1U0eCYrQuwSJwTm5Zq</td>\n",
       "      <td>3</td>\n",
       "      <td>5.975132</td>\n",
       "    </tr>\n",
       "    <tr>\n",
       "      <th>2</th>\n",
       "      <td>Canta Canta, Minha Gente                      ...</td>\n",
       "      <td>Martinho Da Vila</td>\n",
       "      <td>0.8510</td>\n",
       "      <td>0.73000</td>\n",
       "      <td>2</td>\n",
       "      <td>-11.048</td>\n",
       "      <td>1</td>\n",
       "      <td>0.3470</td>\n",
       "      <td>0.453</td>\n",
       "      <td>0.000063</td>\n",
       "      <td>0.1240</td>\n",
       "      <td>0.9050</td>\n",
       "      <td>93.698</td>\n",
       "      <td>4</td>\n",
       "      <td>0NLIFSZxPzQhCwnkn5PJYs</td>\n",
       "      <td>3</td>\n",
       "      <td>29.595840</td>\n",
       "    </tr>\n",
       "    <tr>\n",
       "      <th>3</th>\n",
       "      <td>Mulher Eu Sei                                 ...</td>\n",
       "      <td>Chico César</td>\n",
       "      <td>0.7050</td>\n",
       "      <td>0.05020</td>\n",
       "      <td>4</td>\n",
       "      <td>-18.115</td>\n",
       "      <td>1</td>\n",
       "      <td>0.0471</td>\n",
       "      <td>0.879</td>\n",
       "      <td>0.000041</td>\n",
       "      <td>0.3860</td>\n",
       "      <td>0.5240</td>\n",
       "      <td>106.802</td>\n",
       "      <td>4</td>\n",
       "      <td>3mXqOdlLE1k67WsAxryPFs</td>\n",
       "      <td>24</td>\n",
       "      <td>5.499646</td>\n",
       "    </tr>\n",
       "    <tr>\n",
       "      <th>4</th>\n",
       "      <td>Rosa Morena                                   ...</td>\n",
       "      <td>Kurt Elling</td>\n",
       "      <td>0.6510</td>\n",
       "      <td>0.11900</td>\n",
       "      <td>6</td>\n",
       "      <td>-19.807</td>\n",
       "      <td>1</td>\n",
       "      <td>0.0380</td>\n",
       "      <td>0.916</td>\n",
       "      <td>0.000343</td>\n",
       "      <td>0.1040</td>\n",
       "      <td>0.4020</td>\n",
       "      <td>120.941</td>\n",
       "      <td>4</td>\n",
       "      <td>7bSzjzjTkWT2CkIPPdp0eA</td>\n",
       "      <td>14</td>\n",
       "      <td>14.156754</td>\n",
       "    </tr>\n",
       "    <tr>\n",
       "      <th>...</th>\n",
       "      <td>...</td>\n",
       "      <td>...</td>\n",
       "      <td>...</td>\n",
       "      <td>...</td>\n",
       "      <td>...</td>\n",
       "      <td>...</td>\n",
       "      <td>...</td>\n",
       "      <td>...</td>\n",
       "      <td>...</td>\n",
       "      <td>...</td>\n",
       "      <td>...</td>\n",
       "      <td>...</td>\n",
       "      <td>...</td>\n",
       "      <td>...</td>\n",
       "      <td>...</td>\n",
       "      <td>...</td>\n",
       "      <td>...</td>\n",
       "    </tr>\n",
       "    <tr>\n",
       "      <th>5230</th>\n",
       "      <td>1812 Festival Overture, Op. 49: 1812 Overture,...</td>\n",
       "      <td>Pyotr Ilyich Tchaikovsky</td>\n",
       "      <td>0.2020</td>\n",
       "      <td>0.06940</td>\n",
       "      <td>3</td>\n",
       "      <td>-23.390</td>\n",
       "      <td>1</td>\n",
       "      <td>0.0473</td>\n",
       "      <td>0.917</td>\n",
       "      <td>0.715000</td>\n",
       "      <td>0.0832</td>\n",
       "      <td>0.0655</td>\n",
       "      <td>87.906</td>\n",
       "      <td>4</td>\n",
       "      <td>1aEhYlZtypmipA06SDJ4U3</td>\n",
       "      <td>2</td>\n",
       "      <td>14.265940</td>\n",
       "    </tr>\n",
       "    <tr>\n",
       "      <th>5231</th>\n",
       "      <td>Winter Fragments pour ensemble instrumental, s...</td>\n",
       "      <td>Tristan Murail</td>\n",
       "      <td>0.1880</td>\n",
       "      <td>0.10100</td>\n",
       "      <td>6</td>\n",
       "      <td>-21.873</td>\n",
       "      <td>1</td>\n",
       "      <td>0.0442</td>\n",
       "      <td>0.855</td>\n",
       "      <td>0.426000</td>\n",
       "      <td>0.0694</td>\n",
       "      <td>0.0355</td>\n",
       "      <td>83.134</td>\n",
       "      <td>4</td>\n",
       "      <td>1Gfqe7TAKklmuZf6hxsH6h</td>\n",
       "      <td>20</td>\n",
       "      <td>26.642528</td>\n",
       "    </tr>\n",
       "    <tr>\n",
       "      <th>5232</th>\n",
       "      <td>Schoenberg: 5 Orchestral Pieces, Op. 16: No. 3...</td>\n",
       "      <td>Arnold Schoenberg</td>\n",
       "      <td>0.0596</td>\n",
       "      <td>0.00093</td>\n",
       "      <td>9</td>\n",
       "      <td>-42.959</td>\n",
       "      <td>1</td>\n",
       "      <td>0.0434</td>\n",
       "      <td>0.951</td>\n",
       "      <td>0.969000</td>\n",
       "      <td>0.0772</td>\n",
       "      <td>0.0344</td>\n",
       "      <td>71.573</td>\n",
       "      <td>3</td>\n",
       "      <td>2XNwnFrdMDpismp0VUZ7cU</td>\n",
       "      <td>20</td>\n",
       "      <td>43.819477</td>\n",
       "    </tr>\n",
       "    <tr>\n",
       "      <th>5233</th>\n",
       "      <td>Serenade For Strings In E, Op.22, B. 52: 1. Mo...</td>\n",
       "      <td>Antonín Dvořák</td>\n",
       "      <td>0.1330</td>\n",
       "      <td>0.02080</td>\n",
       "      <td>4</td>\n",
       "      <td>-29.443</td>\n",
       "      <td>1</td>\n",
       "      <td>0.0419</td>\n",
       "      <td>0.883</td>\n",
       "      <td>0.505000</td>\n",
       "      <td>0.1110</td>\n",
       "      <td>0.0591</td>\n",
       "      <td>67.109</td>\n",
       "      <td>4</td>\n",
       "      <td>7ucDwgMtE3YJtEfTbuRhy0</td>\n",
       "      <td>2</td>\n",
       "      <td>35.718073</td>\n",
       "    </tr>\n",
       "    <tr>\n",
       "      <th>5234</th>\n",
       "      <td>Ravel: Boléro, M. 81                          ...</td>\n",
       "      <td>Maurice Ravel</td>\n",
       "      <td>0.3540</td>\n",
       "      <td>0.04870</td>\n",
       "      <td>5</td>\n",
       "      <td>-24.568</td>\n",
       "      <td>1</td>\n",
       "      <td>0.0323</td>\n",
       "      <td>0.783</td>\n",
       "      <td>0.484000</td>\n",
       "      <td>0.2840</td>\n",
       "      <td>0.2530</td>\n",
       "      <td>64.120</td>\n",
       "      <td>3</td>\n",
       "      <td>7E1ErYYCn0lYjHODZ1qGuB</td>\n",
       "      <td>20</td>\n",
       "      <td>45.785377</td>\n",
       "    </tr>\n",
       "  </tbody>\n",
       "</table>\n",
       "<p>5171 rows × 17 columns</p>\n",
       "</div>"
      ],
      "text/plain": [
       "                                                   name  \\\n",
       "0     Se Eu Quiser Falar Com Deus                   ...   \n",
       "1     Saudade De Bahia                              ...   \n",
       "2     Canta Canta, Minha Gente                      ...   \n",
       "3     Mulher Eu Sei                                 ...   \n",
       "4     Rosa Morena                                   ...   \n",
       "...                                                 ...   \n",
       "5230  1812 Festival Overture, Op. 49: 1812 Overture,...   \n",
       "5231  Winter Fragments pour ensemble instrumental, s...   \n",
       "5232  Schoenberg: 5 Orchestral Pieces, Op. 16: No. 3...   \n",
       "5233  Serenade For Strings In E, Op.22, B. 52: 1. Mo...   \n",
       "5234  Ravel: Boléro, M. 81                          ...   \n",
       "\n",
       "                                                artist  danceability   energy  \\\n",
       "0     Gilberto Gil                                            0.6580  0.25900   \n",
       "1     Antônio Carlos Jobim                                    0.7420  0.39900   \n",
       "2     Martinho Da Vila                                        0.8510  0.73000   \n",
       "3     Chico César                                             0.7050  0.05020   \n",
       "4     Kurt Elling                                             0.6510  0.11900   \n",
       "...                                                ...           ...      ...   \n",
       "5230  Pyotr Ilyich Tchaikovsky                                0.2020  0.06940   \n",
       "5231  Tristan Murail                                          0.1880  0.10100   \n",
       "5232  Arnold Schoenberg                                       0.0596  0.00093   \n",
       "5233  Antonín Dvořák                                          0.1330  0.02080   \n",
       "5234  Maurice Ravel                                           0.3540  0.04870   \n",
       "\n",
       "      key  loudness  mode  speechiness  acousticness  instrumentalness  \\\n",
       "0      11   -13.141     0       0.0705         0.694          0.000059   \n",
       "1       2   -12.646     1       0.0346         0.217          0.000002   \n",
       "2       2   -11.048     1       0.3470         0.453          0.000063   \n",
       "3       4   -18.115     1       0.0471         0.879          0.000041   \n",
       "4       6   -19.807     1       0.0380         0.916          0.000343   \n",
       "...   ...       ...   ...          ...           ...               ...   \n",
       "5230    3   -23.390     1       0.0473         0.917          0.715000   \n",
       "5231    6   -21.873     1       0.0442         0.855          0.426000   \n",
       "5232    9   -42.959     1       0.0434         0.951          0.969000   \n",
       "5233    4   -29.443     1       0.0419         0.883          0.505000   \n",
       "5234    5   -24.568     1       0.0323         0.783          0.484000   \n",
       "\n",
       "      liveness  valence    tempo  time_signature                       id  \\\n",
       "0       0.9750   0.3060  110.376               4  1n7JnwviZ7zf0LR1tcGFq7    \n",
       "1       0.1070   0.6930  125.039               4  5QGM1U0eCYrQuwSJwTm5Zq    \n",
       "2       0.1240   0.9050   93.698               4  0NLIFSZxPzQhCwnkn5PJYs    \n",
       "3       0.3860   0.5240  106.802               4  3mXqOdlLE1k67WsAxryPFs    \n",
       "4       0.1040   0.4020  120.941               4  7bSzjzjTkWT2CkIPPdp0eA    \n",
       "...        ...      ...      ...             ...                      ...   \n",
       "5230    0.0832   0.0655   87.906               4  1aEhYlZtypmipA06SDJ4U3    \n",
       "5231    0.0694   0.0355   83.134               4  1Gfqe7TAKklmuZf6hxsH6h    \n",
       "5232    0.0772   0.0344   71.573               3  2XNwnFrdMDpismp0VUZ7cU    \n",
       "5233    0.1110   0.0591   67.109               4  7ucDwgMtE3YJtEfTbuRhy0    \n",
       "5234    0.2840   0.2530   64.120               3  7E1ErYYCn0lYjHODZ1qGuB    \n",
       "\n",
       "      Cluster_30  distance_to_centroid  \n",
       "0             15              5.567135  \n",
       "1              3              5.975132  \n",
       "2              3             29.595840  \n",
       "3             24              5.499646  \n",
       "4             14             14.156754  \n",
       "...          ...                   ...  \n",
       "5230           2             14.265940  \n",
       "5231          20             26.642528  \n",
       "5232          20             43.819477  \n",
       "5233           2             35.718073  \n",
       "5234          20             45.785377  \n",
       "\n",
       "[5171 rows x 17 columns]"
      ]
     },
     "execution_count": 36,
     "metadata": {},
     "output_type": "execute_result"
    }
   ],
   "source": [
    "df_with_clusters"
   ]
  },
  {
   "cell_type": "code",
   "execution_count": null,
   "metadata": {},
   "outputs": [],
   "source": [
    "df_with_clusters"
   ]
  },
  {
   "cell_type": "code",
   "execution_count": 38,
   "metadata": {},
   "outputs": [],
   "source": [
    "# Filtering the top 30% closest songs to the centroid for each cluster\n",
    "df_filtered = df_with_clusters.groupby('Cluster_30').apply(\n",
    "    lambda x: x.nsmallest(int(len(x) * 0.3), 'distance_to_centroid')\n",
    ").reset_index(drop=True)"
   ]
  },
  {
   "cell_type": "code",
   "execution_count": null,
   "metadata": {},
   "outputs": [],
   "source": [
    "df_filtered"
   ]
  },
  {
   "cell_type": "code",
   "execution_count": 40,
   "metadata": {},
   "outputs": [],
   "source": [
    "import spotipy\n",
    "from spotipy.oauth2 import SpotifyOAuth\n",
    "from spotify_credentials import SPOTIFY_CLIENT_ID, SPOTIFY_CLIENT_SECRET, SPOTIFY_USERNAME"
   ]
  },
  {
   "cell_type": "code",
   "execution_count": 100,
   "metadata": {},
   "outputs": [
    {
     "name": "stdout",
     "output_type": "stream",
     "text": [
      "Created playlist: Upbeat Pop Mix with 73 tracks\n",
      "Created playlist: High-Energy Rock Collection with 64 tracks\n",
      "Created playlist: Intense Instrumentals Vol. 1 with 51 tracks\n",
      "Created playlist: Dark Electronic Beats with 99 tracks\n",
      "Created playlist: Energetic Dance Grooves with 36 tracks\n",
      "Created playlist: Top Dance Pop Hits with 77 tracks\n",
      "Created playlist: Melancholic Electronica Vibes with 36 tracks\n",
      "Created playlist: Indie Pop & Rock Anthems with 28 tracks\n",
      "Created playlist: Dramatic Instrumentals Collection with 12 tracks\n",
      "Created playlist: Chill Indie Tunes with 33 tracks\n",
      "Created playlist: Upbeat Rock/Pop Hits with 85 tracks\n",
      "Created playlist: Melancholic Ambient Sounds with 43 tracks\n",
      "Created playlist: Energetic Pop Essentials with 98 tracks\n",
      "Created playlist: Acoustic Hits with 42 tracks\n",
      "Created playlist: Soft Acoustic Moods with 45 tracks\n",
      "Created playlist: Reflective Tracks with 30 tracks\n",
      "Created playlist: Pop Hits Collection with 60 tracks\n",
      "Created playlist: Relaxed Pop Selections with 33 tracks\n",
      "Created playlist: Indie Electronica Essentials with 23 tracks\n",
      "Created playlist: Melancholic Instrumentals with 51 tracks\n",
      "Created playlist: Dark Ambient Atmospheres with 57 tracks\n",
      "Created playlist: Intense Instrumentals Vol 2 with 54 tracks\n",
      "Created playlist: High-Energy Dance Tracks with 42 tracks\n",
      "Created playlist: Dark Instrumental Soundscapes with 45 tracks\n",
      "Created playlist: Chill Electronica Sessions with 31 tracks\n",
      "Created playlist: Alternative Pop Playlist with 50 tracks\n",
      "Created playlist: Reflective Soundscapes with 65 tracks\n",
      "Created playlist: Energetic Dance Rhythms with 75 tracks\n",
      "Created playlist: Dark Dance Hits with 43 tracks\n",
      "Created playlist: Instrumental Journeys with 57 tracks\n",
      "All distinct playlists created successfully!\n"
     ]
    }
   ],
   "source": [
    "import spotipy\n",
    "from spotipy.oauth2 import SpotifyOAuth\n",
    "\n",
    "scope = 'playlist-modify-public'\n",
    "redirect_uri = 'http://localhost:8888/'\n",
    "\n",
    "token = SpotifyOAuth(client_id=SPOTIFY_CLIENT_ID,\n",
    "                     client_secret=SPOTIFY_CLIENT_SECRET,\n",
    "                     redirect_uri=redirect_uri,\n",
    "                     scope=scope,\n",
    "                     username=SPOTIFY_USERNAME)\n",
    "spotifyObject = spotipy.Spotify(auth_manager=token)\n",
    "\n",
    "playlist_names = {\n",
    "    0: \"Upbeat Pop Mix\",\n",
    "    1: \"High-Energy Rock Collection\",\n",
    "    2: \"Intense Instrumentals Vol. 1\",\n",
    "    3: \"Dark Electronic Beats\",\n",
    "    4: \"Energetic Dance Grooves\",\n",
    "    5: \"Top Dance Pop Hits\",\n",
    "    6: \"Melancholic Electronica Vibes\",\n",
    "    7: \"Indie Pop & Rock Anthems\",\n",
    "    8: \"Dramatic Instrumentals Collection\",\n",
    "    9: \"Chill Indie Tunes\",\n",
    "    10: \"Upbeat Rock/Pop Hits\",\n",
    "    11: \"Melancholic Ambient Sounds\",\n",
    "    12: \"Energetic Pop Essentials\",\n",
    "    13: \"Acoustic Hits\",\n",
    "    14: \"Soft Acoustic Moods\",\n",
    "    15: \"Reflective Tracks\",\n",
    "    16: \"Pop Hits Collection\",\n",
    "    17: \"Relaxed Pop Selections\",\n",
    "    18: \"Indie Electronica Essentials\",\n",
    "    19: \"Melancholic Instrumentals\",\n",
    "    20: \"Dark Ambient Atmospheres\",\n",
    "    21: \"Intense Instrumentals Vol 2\",\n",
    "    22: \"High-Energy Dance Tracks\",\n",
    "    23: \"Dark Instrumental Soundscapes\",\n",
    "    24: \"Chill Electronica Sessions\",\n",
    "    25: \"Alternative Pop Playlist\",\n",
    "    26: \"Reflective Soundscapes\",\n",
    "    27: \"Energetic Dance Rhythms\",\n",
    "    28: \"Dark Dance Hits\",\n",
    "    29: \"Instrumental Journeys\"\n",
    "}\n",
    "\n",
    "playlist_collection = {}\n",
    "\n",
    "for cluster in df_filtered['Cluster_30'].unique():\n",
    "    # Use the provided name based on the cluster number\n",
    "    playlist_name = playlist_names[cluster]\n",
    "    playlist_description = f'This is a playlist for distinct songs from cluster {cluster}'\n",
    "    \n",
    "    # Create the playlist on Spotify\n",
    "    playlist_id = spotifyObject.user_playlist_create(user=SPOTIFY_USERNAME,\n",
    "                                                     name=playlist_name,\n",
    "                                                     public=True,\n",
    "                                                     description=playlist_description)['id']\n",
    "    \n",
    "    # Get all track IDs from the current cluster\n",
    "    id_list = list(df_filtered.loc[df_filtered[\"Cluster_30\"] == cluster].id)\n",
    "    \n",
    "    # Spotify needs certain text wrappers around ID numbers to identify the target as a track\n",
    "    uris = [f'spotify:track:{str(track_id).strip()}' for track_id in id_list]\n",
    "    \n",
    "    # Add tracks to the playlist (Spotify API has a limit of 100 tracks per request)\n",
    "    for j in range(0, len(uris), 100):\n",
    "        spotifyObject.user_playlist_add_tracks(user=SPOTIFY_USERNAME,\n",
    "                                               playlist_id=playlist_id,\n",
    "                                               tracks=uris[j:j+100])\n",
    "    \n",
    "    playlist_collection[playlist_name] = playlist_id\n",
    "    print(f\"Created playlist: {playlist_name} with {len(uris)} tracks\")\n",
    "\n",
    "print(\"All distinct playlists created successfully!\")"
   ]
  },
  {
   "cell_type": "code",
   "execution_count": 54,
   "metadata": {},
   "outputs": [
    {
     "data": {
      "application/vnd.plotly.v1+json": {
       "config": {
        "plotlyServerURL": "https://plot.ly"
       },
       "data": [
        {
         "alignmentgroup": "True",
         "hovertemplate": "Cluster_30=%{x}<br>Number of Songs=%{y}<extra></extra>",
         "legendgroup": "",
         "marker": {
          "color": "#636efa",
          "pattern": {
           "shape": ""
          }
         },
         "name": "",
         "offsetgroup": "",
         "orientation": "v",
         "showlegend": false,
         "textposition": "auto",
         "type": "bar",
         "x": [
          0,
          1,
          2,
          3,
          4,
          5,
          6,
          7,
          8,
          9,
          10,
          11,
          12,
          13,
          14,
          15,
          16,
          17,
          18,
          19,
          20,
          21,
          22,
          23,
          24,
          25,
          26,
          27,
          28,
          29
         ],
         "xaxis": "x",
         "y": [
          73,
          64,
          51,
          99,
          36,
          77,
          36,
          28,
          12,
          33,
          85,
          43,
          98,
          42,
          45,
          30,
          60,
          33,
          23,
          51,
          57,
          54,
          42,
          45,
          31,
          50,
          65,
          75,
          43,
          57
         ],
         "yaxis": "y"
        }
       ],
       "layout": {
        "barmode": "relative",
        "legend": {
         "tracegroupgap": 0
        },
        "template": {
         "data": {
          "bar": [
           {
            "error_x": {
             "color": "#2a3f5f"
            },
            "error_y": {
             "color": "#2a3f5f"
            },
            "marker": {
             "line": {
              "color": "#E5ECF6",
              "width": 0.5
             },
             "pattern": {
              "fillmode": "overlay",
              "size": 10,
              "solidity": 0.2
             }
            },
            "type": "bar"
           }
          ],
          "barpolar": [
           {
            "marker": {
             "line": {
              "color": "#E5ECF6",
              "width": 0.5
             },
             "pattern": {
              "fillmode": "overlay",
              "size": 10,
              "solidity": 0.2
             }
            },
            "type": "barpolar"
           }
          ],
          "carpet": [
           {
            "aaxis": {
             "endlinecolor": "#2a3f5f",
             "gridcolor": "white",
             "linecolor": "white",
             "minorgridcolor": "white",
             "startlinecolor": "#2a3f5f"
            },
            "baxis": {
             "endlinecolor": "#2a3f5f",
             "gridcolor": "white",
             "linecolor": "white",
             "minorgridcolor": "white",
             "startlinecolor": "#2a3f5f"
            },
            "type": "carpet"
           }
          ],
          "choropleth": [
           {
            "colorbar": {
             "outlinewidth": 0,
             "ticks": ""
            },
            "type": "choropleth"
           }
          ],
          "contour": [
           {
            "colorbar": {
             "outlinewidth": 0,
             "ticks": ""
            },
            "colorscale": [
             [
              0,
              "#0d0887"
             ],
             [
              0.1111111111111111,
              "#46039f"
             ],
             [
              0.2222222222222222,
              "#7201a8"
             ],
             [
              0.3333333333333333,
              "#9c179e"
             ],
             [
              0.4444444444444444,
              "#bd3786"
             ],
             [
              0.5555555555555556,
              "#d8576b"
             ],
             [
              0.6666666666666666,
              "#ed7953"
             ],
             [
              0.7777777777777778,
              "#fb9f3a"
             ],
             [
              0.8888888888888888,
              "#fdca26"
             ],
             [
              1,
              "#f0f921"
             ]
            ],
            "type": "contour"
           }
          ],
          "contourcarpet": [
           {
            "colorbar": {
             "outlinewidth": 0,
             "ticks": ""
            },
            "type": "contourcarpet"
           }
          ],
          "heatmap": [
           {
            "colorbar": {
             "outlinewidth": 0,
             "ticks": ""
            },
            "colorscale": [
             [
              0,
              "#0d0887"
             ],
             [
              0.1111111111111111,
              "#46039f"
             ],
             [
              0.2222222222222222,
              "#7201a8"
             ],
             [
              0.3333333333333333,
              "#9c179e"
             ],
             [
              0.4444444444444444,
              "#bd3786"
             ],
             [
              0.5555555555555556,
              "#d8576b"
             ],
             [
              0.6666666666666666,
              "#ed7953"
             ],
             [
              0.7777777777777778,
              "#fb9f3a"
             ],
             [
              0.8888888888888888,
              "#fdca26"
             ],
             [
              1,
              "#f0f921"
             ]
            ],
            "type": "heatmap"
           }
          ],
          "heatmapgl": [
           {
            "colorbar": {
             "outlinewidth": 0,
             "ticks": ""
            },
            "colorscale": [
             [
              0,
              "#0d0887"
             ],
             [
              0.1111111111111111,
              "#46039f"
             ],
             [
              0.2222222222222222,
              "#7201a8"
             ],
             [
              0.3333333333333333,
              "#9c179e"
             ],
             [
              0.4444444444444444,
              "#bd3786"
             ],
             [
              0.5555555555555556,
              "#d8576b"
             ],
             [
              0.6666666666666666,
              "#ed7953"
             ],
             [
              0.7777777777777778,
              "#fb9f3a"
             ],
             [
              0.8888888888888888,
              "#fdca26"
             ],
             [
              1,
              "#f0f921"
             ]
            ],
            "type": "heatmapgl"
           }
          ],
          "histogram": [
           {
            "marker": {
             "pattern": {
              "fillmode": "overlay",
              "size": 10,
              "solidity": 0.2
             }
            },
            "type": "histogram"
           }
          ],
          "histogram2d": [
           {
            "colorbar": {
             "outlinewidth": 0,
             "ticks": ""
            },
            "colorscale": [
             [
              0,
              "#0d0887"
             ],
             [
              0.1111111111111111,
              "#46039f"
             ],
             [
              0.2222222222222222,
              "#7201a8"
             ],
             [
              0.3333333333333333,
              "#9c179e"
             ],
             [
              0.4444444444444444,
              "#bd3786"
             ],
             [
              0.5555555555555556,
              "#d8576b"
             ],
             [
              0.6666666666666666,
              "#ed7953"
             ],
             [
              0.7777777777777778,
              "#fb9f3a"
             ],
             [
              0.8888888888888888,
              "#fdca26"
             ],
             [
              1,
              "#f0f921"
             ]
            ],
            "type": "histogram2d"
           }
          ],
          "histogram2dcontour": [
           {
            "colorbar": {
             "outlinewidth": 0,
             "ticks": ""
            },
            "colorscale": [
             [
              0,
              "#0d0887"
             ],
             [
              0.1111111111111111,
              "#46039f"
             ],
             [
              0.2222222222222222,
              "#7201a8"
             ],
             [
              0.3333333333333333,
              "#9c179e"
             ],
             [
              0.4444444444444444,
              "#bd3786"
             ],
             [
              0.5555555555555556,
              "#d8576b"
             ],
             [
              0.6666666666666666,
              "#ed7953"
             ],
             [
              0.7777777777777778,
              "#fb9f3a"
             ],
             [
              0.8888888888888888,
              "#fdca26"
             ],
             [
              1,
              "#f0f921"
             ]
            ],
            "type": "histogram2dcontour"
           }
          ],
          "mesh3d": [
           {
            "colorbar": {
             "outlinewidth": 0,
             "ticks": ""
            },
            "type": "mesh3d"
           }
          ],
          "parcoords": [
           {
            "line": {
             "colorbar": {
              "outlinewidth": 0,
              "ticks": ""
             }
            },
            "type": "parcoords"
           }
          ],
          "pie": [
           {
            "automargin": true,
            "type": "pie"
           }
          ],
          "scatter": [
           {
            "fillpattern": {
             "fillmode": "overlay",
             "size": 10,
             "solidity": 0.2
            },
            "type": "scatter"
           }
          ],
          "scatter3d": [
           {
            "line": {
             "colorbar": {
              "outlinewidth": 0,
              "ticks": ""
             }
            },
            "marker": {
             "colorbar": {
              "outlinewidth": 0,
              "ticks": ""
             }
            },
            "type": "scatter3d"
           }
          ],
          "scattercarpet": [
           {
            "marker": {
             "colorbar": {
              "outlinewidth": 0,
              "ticks": ""
             }
            },
            "type": "scattercarpet"
           }
          ],
          "scattergeo": [
           {
            "marker": {
             "colorbar": {
              "outlinewidth": 0,
              "ticks": ""
             }
            },
            "type": "scattergeo"
           }
          ],
          "scattergl": [
           {
            "marker": {
             "colorbar": {
              "outlinewidth": 0,
              "ticks": ""
             }
            },
            "type": "scattergl"
           }
          ],
          "scattermapbox": [
           {
            "marker": {
             "colorbar": {
              "outlinewidth": 0,
              "ticks": ""
             }
            },
            "type": "scattermapbox"
           }
          ],
          "scatterpolar": [
           {
            "marker": {
             "colorbar": {
              "outlinewidth": 0,
              "ticks": ""
             }
            },
            "type": "scatterpolar"
           }
          ],
          "scatterpolargl": [
           {
            "marker": {
             "colorbar": {
              "outlinewidth": 0,
              "ticks": ""
             }
            },
            "type": "scatterpolargl"
           }
          ],
          "scatterternary": [
           {
            "marker": {
             "colorbar": {
              "outlinewidth": 0,
              "ticks": ""
             }
            },
            "type": "scatterternary"
           }
          ],
          "surface": [
           {
            "colorbar": {
             "outlinewidth": 0,
             "ticks": ""
            },
            "colorscale": [
             [
              0,
              "#0d0887"
             ],
             [
              0.1111111111111111,
              "#46039f"
             ],
             [
              0.2222222222222222,
              "#7201a8"
             ],
             [
              0.3333333333333333,
              "#9c179e"
             ],
             [
              0.4444444444444444,
              "#bd3786"
             ],
             [
              0.5555555555555556,
              "#d8576b"
             ],
             [
              0.6666666666666666,
              "#ed7953"
             ],
             [
              0.7777777777777778,
              "#fb9f3a"
             ],
             [
              0.8888888888888888,
              "#fdca26"
             ],
             [
              1,
              "#f0f921"
             ]
            ],
            "type": "surface"
           }
          ],
          "table": [
           {
            "cells": {
             "fill": {
              "color": "#EBF0F8"
             },
             "line": {
              "color": "white"
             }
            },
            "header": {
             "fill": {
              "color": "#C8D4E3"
             },
             "line": {
              "color": "white"
             }
            },
            "type": "table"
           }
          ]
         },
         "layout": {
          "annotationdefaults": {
           "arrowcolor": "#2a3f5f",
           "arrowhead": 0,
           "arrowwidth": 1
          },
          "autotypenumbers": "strict",
          "coloraxis": {
           "colorbar": {
            "outlinewidth": 0,
            "ticks": ""
           }
          },
          "colorscale": {
           "diverging": [
            [
             0,
             "#8e0152"
            ],
            [
             0.1,
             "#c51b7d"
            ],
            [
             0.2,
             "#de77ae"
            ],
            [
             0.3,
             "#f1b6da"
            ],
            [
             0.4,
             "#fde0ef"
            ],
            [
             0.5,
             "#f7f7f7"
            ],
            [
             0.6,
             "#e6f5d0"
            ],
            [
             0.7,
             "#b8e186"
            ],
            [
             0.8,
             "#7fbc41"
            ],
            [
             0.9,
             "#4d9221"
            ],
            [
             1,
             "#276419"
            ]
           ],
           "sequential": [
            [
             0,
             "#0d0887"
            ],
            [
             0.1111111111111111,
             "#46039f"
            ],
            [
             0.2222222222222222,
             "#7201a8"
            ],
            [
             0.3333333333333333,
             "#9c179e"
            ],
            [
             0.4444444444444444,
             "#bd3786"
            ],
            [
             0.5555555555555556,
             "#d8576b"
            ],
            [
             0.6666666666666666,
             "#ed7953"
            ],
            [
             0.7777777777777778,
             "#fb9f3a"
            ],
            [
             0.8888888888888888,
             "#fdca26"
            ],
            [
             1,
             "#f0f921"
            ]
           ],
           "sequentialminus": [
            [
             0,
             "#0d0887"
            ],
            [
             0.1111111111111111,
             "#46039f"
            ],
            [
             0.2222222222222222,
             "#7201a8"
            ],
            [
             0.3333333333333333,
             "#9c179e"
            ],
            [
             0.4444444444444444,
             "#bd3786"
            ],
            [
             0.5555555555555556,
             "#d8576b"
            ],
            [
             0.6666666666666666,
             "#ed7953"
            ],
            [
             0.7777777777777778,
             "#fb9f3a"
            ],
            [
             0.8888888888888888,
             "#fdca26"
            ],
            [
             1,
             "#f0f921"
            ]
           ]
          },
          "colorway": [
           "#636efa",
           "#EF553B",
           "#00cc96",
           "#ab63fa",
           "#FFA15A",
           "#19d3f3",
           "#FF6692",
           "#B6E880",
           "#FF97FF",
           "#FECB52"
          ],
          "font": {
           "color": "#2a3f5f"
          },
          "geo": {
           "bgcolor": "white",
           "lakecolor": "white",
           "landcolor": "#E5ECF6",
           "showlakes": true,
           "showland": true,
           "subunitcolor": "white"
          },
          "hoverlabel": {
           "align": "left"
          },
          "hovermode": "closest",
          "mapbox": {
           "style": "light"
          },
          "paper_bgcolor": "white",
          "plot_bgcolor": "#E5ECF6",
          "polar": {
           "angularaxis": {
            "gridcolor": "white",
            "linecolor": "white",
            "ticks": ""
           },
           "bgcolor": "#E5ECF6",
           "radialaxis": {
            "gridcolor": "white",
            "linecolor": "white",
            "ticks": ""
           }
          },
          "scene": {
           "xaxis": {
            "backgroundcolor": "#E5ECF6",
            "gridcolor": "white",
            "gridwidth": 2,
            "linecolor": "white",
            "showbackground": true,
            "ticks": "",
            "zerolinecolor": "white"
           },
           "yaxis": {
            "backgroundcolor": "#E5ECF6",
            "gridcolor": "white",
            "gridwidth": 2,
            "linecolor": "white",
            "showbackground": true,
            "ticks": "",
            "zerolinecolor": "white"
           },
           "zaxis": {
            "backgroundcolor": "#E5ECF6",
            "gridcolor": "white",
            "gridwidth": 2,
            "linecolor": "white",
            "showbackground": true,
            "ticks": "",
            "zerolinecolor": "white"
           }
          },
          "shapedefaults": {
           "line": {
            "color": "#2a3f5f"
           }
          },
          "ternary": {
           "aaxis": {
            "gridcolor": "white",
            "linecolor": "white",
            "ticks": ""
           },
           "baxis": {
            "gridcolor": "white",
            "linecolor": "white",
            "ticks": ""
           },
           "bgcolor": "#E5ECF6",
           "caxis": {
            "gridcolor": "white",
            "linecolor": "white",
            "ticks": ""
           }
          },
          "title": {
           "x": 0.05
          },
          "xaxis": {
           "automargin": true,
           "gridcolor": "white",
           "linecolor": "white",
           "ticks": "",
           "title": {
            "standoff": 15
           },
           "zerolinecolor": "white",
           "zerolinewidth": 2
          },
          "yaxis": {
           "automargin": true,
           "gridcolor": "white",
           "linecolor": "white",
           "ticks": "",
           "title": {
            "standoff": 15
           },
           "zerolinecolor": "white",
           "zerolinewidth": 2
          }
         }
        },
        "title": {
         "text": "Number of Songs in Each Playlist"
        },
        "xaxis": {
         "anchor": "y",
         "domain": [
          0,
          1
         ],
         "title": {
          "text": "Cluster_30"
         }
        },
        "yaxis": {
         "anchor": "x",
         "domain": [
          0,
          1
         ],
         "title": {
          "text": "Number of Songs"
         }
        }
       }
      }
     },
     "metadata": {},
     "output_type": "display_data"
    }
   ],
   "source": [
    "import plotly.express as px\n",
    "\n",
    "# showing the number of songs in each cluster in the filtered dataframe\n",
    "cluster_counts = df_filtered['Cluster_30'].value_counts().sort_index()\n",
    "\n",
    "# bar chart using Plotly\n",
    "fig = px.bar(cluster_counts, \n",
    "             x=cluster_counts.index, \n",
    "             y=cluster_counts.values, \n",
    "             labels={'x': 'Playlist', 'y': 'Number of Songs'},\n",
    "             title='Number of Songs in Each Playlist')\n",
    "\n",
    "fig.show()"
   ]
  },
  {
   "cell_type": "code",
   "execution_count": 53,
   "metadata": {},
   "outputs": [
    {
     "data": {
      "image/png": "[encoded data removed]",
      "text/plain": [
       "<Figure size 1000x600 with 1 Axes>"
      ]
     },
     "metadata": {},
     "output_type": "display_data"
    }
   ],
   "source": [
    "import matplotlib.pyplot as plt\n",
    "\n",
    "# # showing the number of songs in each cluster in the filtered dataframe\n",
    "cluster_counts = df_filtered['Cluster_30'].value_counts().sort_index()\n",
    "\n",
    "plt.figure(figsize=(10, 6))\n",
    "cluster_counts.plot(kind='bar', color='skyblue')\n",
    "plt.title('Number of Songs in Each Playlist' )\n",
    "plt.xlabel('Playlist')\n",
    "plt.ylabel('Number of Songs')\n",
    "plt.show()"
   ]
  },
  {
   "cell_type": "code",
   "execution_count": 106,
   "metadata": {},
   "outputs": [
    {
     "data": {
      "image/png": "[encoded data removed]",
      "text/plain": [
       "<Figure size 1000x800 with 2 Axes>"
      ]
     },
     "metadata": {},
     "output_type": "display_data"
    }
   ],
   "source": [
    "import seaborn as sns\n",
    "import matplotlib.pyplot as plt\n",
    "\n",
    "# Calculate the correlation matrix\n",
    "corr_matrix = df_with_clusters[feature_columns].corr()\n",
    "\n",
    "plt.figure(figsize=(10, 8))\n",
    "sns.heatmap(corr_matrix, annot=True, fmt=\".2f\", cmap='coolwarm', vmin=-1, vmax=1)\n",
    "plt.title('Correlation Heatmap of Audio Features')\n",
    "plt.show()"
   ]
  }
 ],
 "metadata": {
  "kernelspec": {
   "display_name": "base",
   "language": "python",
   "name": "python3"
  },
  "language_info": {
   "codemirror_mode": {
    "name": "ipython",
    "version": 3
   },
   "file_extension": ".py",
   "mimetype": "text/x-python",
   "name": "python",
   "nbconvert_exporter": "python",
   "pygments_lexer": "ipython3",
   "version": "3.11.7"
  }
 },
 "nbformat": 4,
 "nbformat_minor": 2
}
